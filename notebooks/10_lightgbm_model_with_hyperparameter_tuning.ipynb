{
 "cells": [
  {
   "cell_type": "code",
   "execution_count": 7,
   "metadata": {},
   "outputs": [
    {
     "name": "stdout",
     "output_type": "stream",
     "text": [
      "Current Working Directory:  c:\\Projects\\taxi_demand_predictory\n"
     ]
    }
   ],
   "source": [
    "import os\n",
    "\n",
    "# Your desired directory path\n",
    "desired_path = \"c:/Projects/taxi_demand_predictory/\"\n",
    "\n",
    "# Change the current working directory to the specified path\n",
    "os.chdir(desired_path)\n",
    "\n",
    "# Verify by printing the current working directory\n",
    "print(\"Current Working Directory: \", os.getcwd())"
   ]
  },
  {
   "cell_type": "code",
   "execution_count": 8,
   "metadata": {},
   "outputs": [],
   "source": [
    "\n",
    "import warnings\n",
    "warnings.filterwarnings(\"ignore\")"
   ]
  },
  {
   "cell_type": "code",
   "execution_count": 9,
   "metadata": {},
   "outputs": [
    {
     "data": {
      "text/html": [
       "<div>\n",
       "<style scoped>\n",
       "    .dataframe tbody tr th:only-of-type {\n",
       "        vertical-align: middle;\n",
       "    }\n",
       "\n",
       "    .dataframe tbody tr th {\n",
       "        vertical-align: top;\n",
       "    }\n",
       "\n",
       "    .dataframe thead th {\n",
       "        text-align: right;\n",
       "    }\n",
       "</style>\n",
       "<table border=\"1\" class=\"dataframe\">\n",
       "  <thead>\n",
       "    <tr style=\"text-align: right;\">\n",
       "      <th></th>\n",
       "      <th>rides_previous_672_hour</th>\n",
       "      <th>rides_previous_671_hour</th>\n",
       "      <th>rides_previous_670_hour</th>\n",
       "      <th>rides_previous_669_hour</th>\n",
       "      <th>rides_previous_668_hour</th>\n",
       "      <th>rides_previous_667_hour</th>\n",
       "      <th>rides_previous_666_hour</th>\n",
       "      <th>rides_previous_665_hour</th>\n",
       "      <th>rides_previous_664_hour</th>\n",
       "      <th>rides_previous_663_hour</th>\n",
       "      <th>...</th>\n",
       "      <th>rides_previous_7_hour</th>\n",
       "      <th>rides_previous_6_hour</th>\n",
       "      <th>rides_previous_5_hour</th>\n",
       "      <th>rides_previous_4_hour</th>\n",
       "      <th>rides_previous_3_hour</th>\n",
       "      <th>rides_previous_2_hour</th>\n",
       "      <th>rides_previous_1_hour</th>\n",
       "      <th>pickup_hour</th>\n",
       "      <th>pickup_location_id</th>\n",
       "      <th>target_rides_next_hour</th>\n",
       "    </tr>\n",
       "  </thead>\n",
       "  <tbody>\n",
       "    <tr>\n",
       "      <th>0</th>\n",
       "      <td>0.0</td>\n",
       "      <td>0.0</td>\n",
       "      <td>0.0</td>\n",
       "      <td>0.0</td>\n",
       "      <td>0.0</td>\n",
       "      <td>1.0</td>\n",
       "      <td>0.0</td>\n",
       "      <td>0.0</td>\n",
       "      <td>1.0</td>\n",
       "      <td>0.0</td>\n",
       "      <td>...</td>\n",
       "      <td>1.0</td>\n",
       "      <td>0.0</td>\n",
       "      <td>0.0</td>\n",
       "      <td>0.0</td>\n",
       "      <td>0.0</td>\n",
       "      <td>0.0</td>\n",
       "      <td>0.0</td>\n",
       "      <td>2023-01-29</td>\n",
       "      <td>1</td>\n",
       "      <td>0.0</td>\n",
       "    </tr>\n",
       "    <tr>\n",
       "      <th>1</th>\n",
       "      <td>0.0</td>\n",
       "      <td>0.0</td>\n",
       "      <td>0.0</td>\n",
       "      <td>0.0</td>\n",
       "      <td>1.0</td>\n",
       "      <td>2.0</td>\n",
       "      <td>2.0</td>\n",
       "      <td>2.0</td>\n",
       "      <td>0.0</td>\n",
       "      <td>2.0</td>\n",
       "      <td>...</td>\n",
       "      <td>2.0</td>\n",
       "      <td>1.0</td>\n",
       "      <td>1.0</td>\n",
       "      <td>0.0</td>\n",
       "      <td>0.0</td>\n",
       "      <td>0.0</td>\n",
       "      <td>0.0</td>\n",
       "      <td>2023-01-30</td>\n",
       "      <td>1</td>\n",
       "      <td>0.0</td>\n",
       "    </tr>\n",
       "    <tr>\n",
       "      <th>2</th>\n",
       "      <td>0.0</td>\n",
       "      <td>0.0</td>\n",
       "      <td>1.0</td>\n",
       "      <td>1.0</td>\n",
       "      <td>1.0</td>\n",
       "      <td>0.0</td>\n",
       "      <td>1.0</td>\n",
       "      <td>0.0</td>\n",
       "      <td>1.0</td>\n",
       "      <td>0.0</td>\n",
       "      <td>...</td>\n",
       "      <td>1.0</td>\n",
       "      <td>2.0</td>\n",
       "      <td>0.0</td>\n",
       "      <td>1.0</td>\n",
       "      <td>0.0</td>\n",
       "      <td>0.0</td>\n",
       "      <td>0.0</td>\n",
       "      <td>2023-01-31</td>\n",
       "      <td>1</td>\n",
       "      <td>0.0</td>\n",
       "    </tr>\n",
       "    <tr>\n",
       "      <th>3</th>\n",
       "      <td>0.0</td>\n",
       "      <td>0.0</td>\n",
       "      <td>1.0</td>\n",
       "      <td>0.0</td>\n",
       "      <td>0.0</td>\n",
       "      <td>0.0</td>\n",
       "      <td>0.0</td>\n",
       "      <td>1.0</td>\n",
       "      <td>1.0</td>\n",
       "      <td>0.0</td>\n",
       "      <td>...</td>\n",
       "      <td>2.0</td>\n",
       "      <td>0.0</td>\n",
       "      <td>0.0</td>\n",
       "      <td>0.0</td>\n",
       "      <td>0.0</td>\n",
       "      <td>0.0</td>\n",
       "      <td>0.0</td>\n",
       "      <td>2023-02-01</td>\n",
       "      <td>1</td>\n",
       "      <td>0.0</td>\n",
       "    </tr>\n",
       "    <tr>\n",
       "      <th>4</th>\n",
       "      <td>0.0</td>\n",
       "      <td>0.0</td>\n",
       "      <td>0.0</td>\n",
       "      <td>0.0</td>\n",
       "      <td>1.0</td>\n",
       "      <td>0.0</td>\n",
       "      <td>0.0</td>\n",
       "      <td>0.0</td>\n",
       "      <td>2.0</td>\n",
       "      <td>1.0</td>\n",
       "      <td>...</td>\n",
       "      <td>1.0</td>\n",
       "      <td>1.0</td>\n",
       "      <td>0.0</td>\n",
       "      <td>0.0</td>\n",
       "      <td>0.0</td>\n",
       "      <td>0.0</td>\n",
       "      <td>0.0</td>\n",
       "      <td>2023-02-02</td>\n",
       "      <td>1</td>\n",
       "      <td>0.0</td>\n",
       "    </tr>\n",
       "    <tr>\n",
       "      <th>...</th>\n",
       "      <td>...</td>\n",
       "      <td>...</td>\n",
       "      <td>...</td>\n",
       "      <td>...</td>\n",
       "      <td>...</td>\n",
       "      <td>...</td>\n",
       "      <td>...</td>\n",
       "      <td>...</td>\n",
       "      <td>...</td>\n",
       "      <td>...</td>\n",
       "      <td>...</td>\n",
       "      <td>...</td>\n",
       "      <td>...</td>\n",
       "      <td>...</td>\n",
       "      <td>...</td>\n",
       "      <td>...</td>\n",
       "      <td>...</td>\n",
       "      <td>...</td>\n",
       "      <td>...</td>\n",
       "      <td>...</td>\n",
       "      <td>...</td>\n",
       "    </tr>\n",
       "    <tr>\n",
       "      <th>40540</th>\n",
       "      <td>14.0</td>\n",
       "      <td>4.0</td>\n",
       "      <td>1.0</td>\n",
       "      <td>0.0</td>\n",
       "      <td>0.0</td>\n",
       "      <td>2.0</td>\n",
       "      <td>0.0</td>\n",
       "      <td>0.0</td>\n",
       "      <td>2.0</td>\n",
       "      <td>0.0</td>\n",
       "      <td>...</td>\n",
       "      <td>4.0</td>\n",
       "      <td>8.0</td>\n",
       "      <td>5.0</td>\n",
       "      <td>4.0</td>\n",
       "      <td>11.0</td>\n",
       "      <td>3.0</td>\n",
       "      <td>8.0</td>\n",
       "      <td>2023-06-26</td>\n",
       "      <td>265</td>\n",
       "      <td>5.0</td>\n",
       "    </tr>\n",
       "    <tr>\n",
       "      <th>40541</th>\n",
       "      <td>2.0</td>\n",
       "      <td>1.0</td>\n",
       "      <td>2.0</td>\n",
       "      <td>4.0</td>\n",
       "      <td>1.0</td>\n",
       "      <td>0.0</td>\n",
       "      <td>2.0</td>\n",
       "      <td>2.0</td>\n",
       "      <td>0.0</td>\n",
       "      <td>2.0</td>\n",
       "      <td>...</td>\n",
       "      <td>8.0</td>\n",
       "      <td>3.0</td>\n",
       "      <td>9.0</td>\n",
       "      <td>5.0</td>\n",
       "      <td>3.0</td>\n",
       "      <td>5.0</td>\n",
       "      <td>7.0</td>\n",
       "      <td>2023-06-27</td>\n",
       "      <td>265</td>\n",
       "      <td>3.0</td>\n",
       "    </tr>\n",
       "    <tr>\n",
       "      <th>40542</th>\n",
       "      <td>2.0</td>\n",
       "      <td>3.0</td>\n",
       "      <td>2.0</td>\n",
       "      <td>0.0</td>\n",
       "      <td>1.0</td>\n",
       "      <td>1.0</td>\n",
       "      <td>0.0</td>\n",
       "      <td>2.0</td>\n",
       "      <td>0.0</td>\n",
       "      <td>5.0</td>\n",
       "      <td>...</td>\n",
       "      <td>8.0</td>\n",
       "      <td>6.0</td>\n",
       "      <td>2.0</td>\n",
       "      <td>7.0</td>\n",
       "      <td>7.0</td>\n",
       "      <td>8.0</td>\n",
       "      <td>3.0</td>\n",
       "      <td>2023-06-28</td>\n",
       "      <td>265</td>\n",
       "      <td>4.0</td>\n",
       "    </tr>\n",
       "    <tr>\n",
       "      <th>40543</th>\n",
       "      <td>0.0</td>\n",
       "      <td>5.0</td>\n",
       "      <td>0.0</td>\n",
       "      <td>2.0</td>\n",
       "      <td>0.0</td>\n",
       "      <td>1.0</td>\n",
       "      <td>1.0</td>\n",
       "      <td>3.0</td>\n",
       "      <td>5.0</td>\n",
       "      <td>7.0</td>\n",
       "      <td>...</td>\n",
       "      <td>15.0</td>\n",
       "      <td>11.0</td>\n",
       "      <td>3.0</td>\n",
       "      <td>2.0</td>\n",
       "      <td>1.0</td>\n",
       "      <td>8.0</td>\n",
       "      <td>7.0</td>\n",
       "      <td>2023-06-29</td>\n",
       "      <td>265</td>\n",
       "      <td>9.0</td>\n",
       "    </tr>\n",
       "    <tr>\n",
       "      <th>40544</th>\n",
       "      <td>3.0</td>\n",
       "      <td>4.0</td>\n",
       "      <td>0.0</td>\n",
       "      <td>3.0</td>\n",
       "      <td>0.0</td>\n",
       "      <td>2.0</td>\n",
       "      <td>3.0</td>\n",
       "      <td>5.0</td>\n",
       "      <td>4.0</td>\n",
       "      <td>5.0</td>\n",
       "      <td>...</td>\n",
       "      <td>11.0</td>\n",
       "      <td>8.0</td>\n",
       "      <td>5.0</td>\n",
       "      <td>5.0</td>\n",
       "      <td>4.0</td>\n",
       "      <td>3.0</td>\n",
       "      <td>4.0</td>\n",
       "      <td>2023-06-30</td>\n",
       "      <td>265</td>\n",
       "      <td>6.0</td>\n",
       "    </tr>\n",
       "  </tbody>\n",
       "</table>\n",
       "<p>40545 rows × 675 columns</p>\n",
       "</div>"
      ],
      "text/plain": [
       "       rides_previous_672_hour  rides_previous_671_hour  \\\n",
       "0                          0.0                      0.0   \n",
       "1                          0.0                      0.0   \n",
       "2                          0.0                      0.0   \n",
       "3                          0.0                      0.0   \n",
       "4                          0.0                      0.0   \n",
       "...                        ...                      ...   \n",
       "40540                     14.0                      4.0   \n",
       "40541                      2.0                      1.0   \n",
       "40542                      2.0                      3.0   \n",
       "40543                      0.0                      5.0   \n",
       "40544                      3.0                      4.0   \n",
       "\n",
       "       rides_previous_670_hour  rides_previous_669_hour  \\\n",
       "0                          0.0                      0.0   \n",
       "1                          0.0                      0.0   \n",
       "2                          1.0                      1.0   \n",
       "3                          1.0                      0.0   \n",
       "4                          0.0                      0.0   \n",
       "...                        ...                      ...   \n",
       "40540                      1.0                      0.0   \n",
       "40541                      2.0                      4.0   \n",
       "40542                      2.0                      0.0   \n",
       "40543                      0.0                      2.0   \n",
       "40544                      0.0                      3.0   \n",
       "\n",
       "       rides_previous_668_hour  rides_previous_667_hour  \\\n",
       "0                          0.0                      1.0   \n",
       "1                          1.0                      2.0   \n",
       "2                          1.0                      0.0   \n",
       "3                          0.0                      0.0   \n",
       "4                          1.0                      0.0   \n",
       "...                        ...                      ...   \n",
       "40540                      0.0                      2.0   \n",
       "40541                      1.0                      0.0   \n",
       "40542                      1.0                      1.0   \n",
       "40543                      0.0                      1.0   \n",
       "40544                      0.0                      2.0   \n",
       "\n",
       "       rides_previous_666_hour  rides_previous_665_hour  \\\n",
       "0                          0.0                      0.0   \n",
       "1                          2.0                      2.0   \n",
       "2                          1.0                      0.0   \n",
       "3                          0.0                      1.0   \n",
       "4                          0.0                      0.0   \n",
       "...                        ...                      ...   \n",
       "40540                      0.0                      0.0   \n",
       "40541                      2.0                      2.0   \n",
       "40542                      0.0                      2.0   \n",
       "40543                      1.0                      3.0   \n",
       "40544                      3.0                      5.0   \n",
       "\n",
       "       rides_previous_664_hour  rides_previous_663_hour  ...  \\\n",
       "0                          1.0                      0.0  ...   \n",
       "1                          0.0                      2.0  ...   \n",
       "2                          1.0                      0.0  ...   \n",
       "3                          1.0                      0.0  ...   \n",
       "4                          2.0                      1.0  ...   \n",
       "...                        ...                      ...  ...   \n",
       "40540                      2.0                      0.0  ...   \n",
       "40541                      0.0                      2.0  ...   \n",
       "40542                      0.0                      5.0  ...   \n",
       "40543                      5.0                      7.0  ...   \n",
       "40544                      4.0                      5.0  ...   \n",
       "\n",
       "       rides_previous_7_hour  rides_previous_6_hour  rides_previous_5_hour  \\\n",
       "0                        1.0                    0.0                    0.0   \n",
       "1                        2.0                    1.0                    1.0   \n",
       "2                        1.0                    2.0                    0.0   \n",
       "3                        2.0                    0.0                    0.0   \n",
       "4                        1.0                    1.0                    0.0   \n",
       "...                      ...                    ...                    ...   \n",
       "40540                    4.0                    8.0                    5.0   \n",
       "40541                    8.0                    3.0                    9.0   \n",
       "40542                    8.0                    6.0                    2.0   \n",
       "40543                   15.0                   11.0                    3.0   \n",
       "40544                   11.0                    8.0                    5.0   \n",
       "\n",
       "       rides_previous_4_hour  rides_previous_3_hour  rides_previous_2_hour  \\\n",
       "0                        0.0                    0.0                    0.0   \n",
       "1                        0.0                    0.0                    0.0   \n",
       "2                        1.0                    0.0                    0.0   \n",
       "3                        0.0                    0.0                    0.0   \n",
       "4                        0.0                    0.0                    0.0   \n",
       "...                      ...                    ...                    ...   \n",
       "40540                    4.0                   11.0                    3.0   \n",
       "40541                    5.0                    3.0                    5.0   \n",
       "40542                    7.0                    7.0                    8.0   \n",
       "40543                    2.0                    1.0                    8.0   \n",
       "40544                    5.0                    4.0                    3.0   \n",
       "\n",
       "       rides_previous_1_hour  pickup_hour  pickup_location_id  \\\n",
       "0                        0.0   2023-01-29                   1   \n",
       "1                        0.0   2023-01-30                   1   \n",
       "2                        0.0   2023-01-31                   1   \n",
       "3                        0.0   2023-02-01                   1   \n",
       "4                        0.0   2023-02-02                   1   \n",
       "...                      ...          ...                 ...   \n",
       "40540                    8.0   2023-06-26                 265   \n",
       "40541                    7.0   2023-06-27                 265   \n",
       "40542                    3.0   2023-06-28                 265   \n",
       "40543                    7.0   2023-06-29                 265   \n",
       "40544                    4.0   2023-06-30                 265   \n",
       "\n",
       "       target_rides_next_hour  \n",
       "0                         0.0  \n",
       "1                         0.0  \n",
       "2                         0.0  \n",
       "3                         0.0  \n",
       "4                         0.0  \n",
       "...                       ...  \n",
       "40540                     5.0  \n",
       "40541                     3.0  \n",
       "40542                     4.0  \n",
       "40543                     9.0  \n",
       "40544                     6.0  \n",
       "\n",
       "[40545 rows x 675 columns]"
      ]
     },
     "execution_count": 9,
     "metadata": {},
     "output_type": "execute_result"
    }
   ],
   "source": [
    "import pandas as pd\n",
    "from src.paths import TRANSFORMED_DATA_DIR\n",
    "\n",
    "df = pd.read_parquet(TRANSFORMED_DATA_DIR / 'tabular_data.parquet')\n",
    "df"
   ]
  },
  {
   "cell_type": "code",
   "execution_count": 10,
   "metadata": {},
   "outputs": [
    {
     "name": "stdout",
     "output_type": "stream",
     "text": [
      "X_train.shape=(32595, 674)\n",
      "y_train.shape=(32595,)\n",
      "X_test.shape=(7950, 674)\n",
      "y_test.shape=(7950,)\n"
     ]
    }
   ],
   "source": [
    "from datetime import datetime\n",
    "from src.data_split import train_test_split\n",
    "\n",
    "X_train, y_train, X_test, y_test = train_test_split(\n",
    "    df,\n",
    "    cutoff_date=datetime(2023, 6, 1, 0, 0, 0),\n",
    "    target_column_name='target_rides_next_hour'\n",
    ")\n",
    "\n",
    "print(f'{X_train.shape=}')\n",
    "print(f'{y_train.shape=}')\n",
    "print(f'{X_test.shape=}')\n",
    "print(f'{y_test.shape=}')"
   ]
  },
  {
   "cell_type": "code",
   "execution_count": 11,
   "metadata": {},
   "outputs": [],
   "source": [
    "import numpy as np\n",
    "from sklearn.model_selection import KFold, TimeSeriesSplit\n",
    "from sklearn.pipeline import make_pipeline\n",
    "from sklearn.metrics import mean_absolute_error\n",
    "import optuna\n",
    "\n",
    "from src.model import get_pipeline\n",
    "\n",
    "def objective(trial: optuna.trial.Trial) -> float:\n",
    "    \"\"\"\n",
    "    Given a set of hyper-parameters, it trains a model and computes an average\n",
    "    validation error based on a TimeSeriesSplit\n",
    "    \"\"\"\n",
    "    # pick hyper-parameters\n",
    "    hyperparams = {\n",
    "        \"metric\": 'mae',\n",
    "        \"verbose\": -1,\n",
    "        \"num_leaves\": trial.suggest_int(\"num_leaves\", 2, 256),\n",
    "        \"feature_fraction\": trial.suggest_float(\"feature_fraction\", 0.2, 1.0),\n",
    "        \"bagging_fraction\": trial.suggest_float(\"bagging_fraction\", 0.2, 1.0),\n",
    "        \"min_child_samples\": trial.suggest_int(\"min_child_samples\", 3, 100),   \n",
    "    }\n",
    "       \n",
    "    tss = TimeSeriesSplit(n_splits=2)\n",
    "    scores = []\n",
    "    for train_index, val_index in tss.split(X_train):\n",
    "\n",
    "        # split data for training and validation\n",
    "        X_train_, X_val_ = X_train.iloc[train_index, :], X_train.iloc[val_index,:]\n",
    "        y_train_, y_val_ = y_train.iloc[train_index], y_train.iloc[val_index]\n",
    "        \n",
    "        # train the model\n",
    "        pipeline = get_pipeline(**hyperparams)\n",
    "        pipeline.fit(X_train_, y_train_)\n",
    "        \n",
    "        # evaluate the model\n",
    "        y_pred = pipeline.predict(X_val_)\n",
    "        mae = mean_absolute_error(y_val_, y_pred)\n",
    "\n",
    "        scores.append(mae)\n",
    "   \n",
    "    # Return the mean score\n",
    "    return np.array(scores).mean()"
   ]
  },
  {
   "cell_type": "code",
   "execution_count": 12,
   "metadata": {},
   "outputs": [
    {
     "name": "stderr",
     "output_type": "stream",
     "text": [
      "[I 2023-09-16 11:07:25,929] A new study created in memory with name: no-name-768b19b1-bfad-4be2-a5de-89f0b0c65d2f\n"
     ]
    },
    {
     "name": "stdout",
     "output_type": "stream",
     "text": [
      "[LightGBM] [Warning] feature_fraction is set=0.649524651897823, colsample_bytree=1.0 will be ignored. Current value: feature_fraction=0.649524651897823\n",
      "[LightGBM] [Warning] bagging_fraction is set=0.5064827773823755, subsample=1.0 will be ignored. Current value: bagging_fraction=0.5064827773823755\n",
      "[LightGBM] [Warning] feature_fraction is set=0.649524651897823, colsample_bytree=1.0 will be ignored. Current value: feature_fraction=0.649524651897823\n",
      "[LightGBM] [Warning] bagging_fraction is set=0.5064827773823755, subsample=1.0 will be ignored. Current value: bagging_fraction=0.5064827773823755\n"
     ]
    },
    {
     "name": "stderr",
     "output_type": "stream",
     "text": [
      "[I 2023-09-16 11:07:30,831] Trial 0 finished with value: 3.7480697669515752 and parameters: {'num_leaves': 32, 'feature_fraction': 0.649524651897823, 'bagging_fraction': 0.5064827773823755, 'min_child_samples': 8}. Best is trial 0 with value: 3.7480697669515752.\n"
     ]
    },
    {
     "name": "stdout",
     "output_type": "stream",
     "text": [
      "[LightGBM] [Warning] feature_fraction is set=0.9907282588061033, colsample_bytree=1.0 will be ignored. Current value: feature_fraction=0.9907282588061033\n",
      "[LightGBM] [Warning] bagging_fraction is set=0.3759591177117275, subsample=1.0 will be ignored. Current value: bagging_fraction=0.3759591177117275\n",
      "[LightGBM] [Warning] feature_fraction is set=0.9907282588061033, colsample_bytree=1.0 will be ignored. Current value: feature_fraction=0.9907282588061033\n",
      "[LightGBM] [Warning] bagging_fraction is set=0.3759591177117275, subsample=1.0 will be ignored. Current value: bagging_fraction=0.3759591177117275\n"
     ]
    },
    {
     "name": "stderr",
     "output_type": "stream",
     "text": [
      "[I 2023-09-16 11:07:41,575] Trial 1 finished with value: 5.129709602722849 and parameters: {'num_leaves': 205, 'feature_fraction': 0.9907282588061033, 'bagging_fraction': 0.3759591177117275, 'min_child_samples': 96}. Best is trial 0 with value: 3.7480697669515752.\n"
     ]
    },
    {
     "name": "stdout",
     "output_type": "stream",
     "text": [
      "[LightGBM] [Warning] feature_fraction is set=0.7150548737701665, colsample_bytree=1.0 will be ignored. Current value: feature_fraction=0.7150548737701665\n",
      "[LightGBM] [Warning] bagging_fraction is set=0.7396191370530623, subsample=1.0 will be ignored. Current value: bagging_fraction=0.7396191370530623\n",
      "[LightGBM] [Warning] feature_fraction is set=0.7150548737701665, colsample_bytree=1.0 will be ignored. Current value: feature_fraction=0.7150548737701665\n",
      "[LightGBM] [Warning] bagging_fraction is set=0.7396191370530623, subsample=1.0 will be ignored. Current value: bagging_fraction=0.7396191370530623\n"
     ]
    },
    {
     "name": "stderr",
     "output_type": "stream",
     "text": [
      "[I 2023-09-16 11:07:51,703] Trial 2 finished with value: 5.165543647109014 and parameters: {'num_leaves': 112, 'feature_fraction': 0.7150548737701665, 'bagging_fraction': 0.7396191370530623, 'min_child_samples': 96}. Best is trial 0 with value: 3.7480697669515752.\n"
     ]
    },
    {
     "name": "stdout",
     "output_type": "stream",
     "text": [
      "[LightGBM] [Warning] feature_fraction is set=0.6994885218816154, colsample_bytree=1.0 will be ignored. Current value: feature_fraction=0.6994885218816154\n",
      "[LightGBM] [Warning] bagging_fraction is set=0.48248153902367197, subsample=1.0 will be ignored. Current value: bagging_fraction=0.48248153902367197\n",
      "[LightGBM] [Warning] feature_fraction is set=0.6994885218816154, colsample_bytree=1.0 will be ignored. Current value: feature_fraction=0.6994885218816154\n",
      "[LightGBM] [Warning] bagging_fraction is set=0.48248153902367197, subsample=1.0 will be ignored. Current value: bagging_fraction=0.48248153902367197\n"
     ]
    },
    {
     "name": "stderr",
     "output_type": "stream",
     "text": [
      "[I 2023-09-16 11:07:59,866] Trial 3 finished with value: 3.66749266750607 and parameters: {'num_leaves': 70, 'feature_fraction': 0.6994885218816154, 'bagging_fraction': 0.48248153902367197, 'min_child_samples': 6}. Best is trial 3 with value: 3.66749266750607.\n"
     ]
    },
    {
     "name": "stdout",
     "output_type": "stream",
     "text": [
      "[LightGBM] [Warning] feature_fraction is set=0.3279286601302259, colsample_bytree=1.0 will be ignored. Current value: feature_fraction=0.3279286601302259\n",
      "[LightGBM] [Warning] bagging_fraction is set=0.5278831881994003, subsample=1.0 will be ignored. Current value: bagging_fraction=0.5278831881994003\n",
      "[LightGBM] [Warning] feature_fraction is set=0.3279286601302259, colsample_bytree=1.0 will be ignored. Current value: feature_fraction=0.3279286601302259\n",
      "[LightGBM] [Warning] bagging_fraction is set=0.5278831881994003, subsample=1.0 will be ignored. Current value: bagging_fraction=0.5278831881994003\n"
     ]
    },
    {
     "name": "stderr",
     "output_type": "stream",
     "text": [
      "[I 2023-09-16 11:08:07,980] Trial 4 finished with value: 3.8899255258258885 and parameters: {'num_leaves': 191, 'feature_fraction': 0.3279286601302259, 'bagging_fraction': 0.5278831881994003, 'min_child_samples': 19}. Best is trial 3 with value: 3.66749266750607.\n"
     ]
    }
   ],
   "source": [
    "study = optuna.create_study(direction=\"minimize\")\n",
    "study.optimize(objective, n_trials=5)"
   ]
  },
  {
   "cell_type": "code",
   "execution_count": 13,
   "metadata": {},
   "outputs": [
    {
     "name": "stdout",
     "output_type": "stream",
     "text": [
      "best_params={'num_leaves': 70, 'feature_fraction': 0.6994885218816154, 'bagging_fraction': 0.48248153902367197, 'min_child_samples': 6}\n"
     ]
    }
   ],
   "source": [
    "best_params = study.best_trial.params\n",
    "print(f'{best_params=}')"
   ]
  },
  {
   "cell_type": "code",
   "execution_count": 14,
   "metadata": {},
   "outputs": [
    {
     "name": "stdout",
     "output_type": "stream",
     "text": [
      "[LightGBM] [Warning] feature_fraction is set=0.6994885218816154, colsample_bytree=1.0 will be ignored. Current value: feature_fraction=0.6994885218816154\n",
      "[LightGBM] [Warning] bagging_fraction is set=0.48248153902367197, subsample=1.0 will be ignored. Current value: bagging_fraction=0.48248153902367197\n"
     ]
    },
    {
     "data": {
      "text/html": [
       "<style>#sk-container-id-1 {color: black;}#sk-container-id-1 pre{padding: 0;}#sk-container-id-1 div.sk-toggleable {background-color: white;}#sk-container-id-1 label.sk-toggleable__label {cursor: pointer;display: block;width: 100%;margin-bottom: 0;padding: 0.3em;box-sizing: border-box;text-align: center;}#sk-container-id-1 label.sk-toggleable__label-arrow:before {content: \"▸\";float: left;margin-right: 0.25em;color: #696969;}#sk-container-id-1 label.sk-toggleable__label-arrow:hover:before {color: black;}#sk-container-id-1 div.sk-estimator:hover label.sk-toggleable__label-arrow:before {color: black;}#sk-container-id-1 div.sk-toggleable__content {max-height: 0;max-width: 0;overflow: hidden;text-align: left;background-color: #f0f8ff;}#sk-container-id-1 div.sk-toggleable__content pre {margin: 0.2em;color: black;border-radius: 0.25em;background-color: #f0f8ff;}#sk-container-id-1 input.sk-toggleable__control:checked~div.sk-toggleable__content {max-height: 200px;max-width: 100%;overflow: auto;}#sk-container-id-1 input.sk-toggleable__control:checked~label.sk-toggleable__label-arrow:before {content: \"▾\";}#sk-container-id-1 div.sk-estimator input.sk-toggleable__control:checked~label.sk-toggleable__label {background-color: #d4ebff;}#sk-container-id-1 div.sk-label input.sk-toggleable__control:checked~label.sk-toggleable__label {background-color: #d4ebff;}#sk-container-id-1 input.sk-hidden--visually {border: 0;clip: rect(1px 1px 1px 1px);clip: rect(1px, 1px, 1px, 1px);height: 1px;margin: -1px;overflow: hidden;padding: 0;position: absolute;width: 1px;}#sk-container-id-1 div.sk-estimator {font-family: monospace;background-color: #f0f8ff;border: 1px dotted black;border-radius: 0.25em;box-sizing: border-box;margin-bottom: 0.5em;}#sk-container-id-1 div.sk-estimator:hover {background-color: #d4ebff;}#sk-container-id-1 div.sk-parallel-item::after {content: \"\";width: 100%;border-bottom: 1px solid gray;flex-grow: 1;}#sk-container-id-1 div.sk-label:hover label.sk-toggleable__label {background-color: #d4ebff;}#sk-container-id-1 div.sk-serial::before {content: \"\";position: absolute;border-left: 1px solid gray;box-sizing: border-box;top: 0;bottom: 0;left: 50%;z-index: 0;}#sk-container-id-1 div.sk-serial {display: flex;flex-direction: column;align-items: center;background-color: white;padding-right: 0.2em;padding-left: 0.2em;position: relative;}#sk-container-id-1 div.sk-item {position: relative;z-index: 1;}#sk-container-id-1 div.sk-parallel {display: flex;align-items: stretch;justify-content: center;background-color: white;position: relative;}#sk-container-id-1 div.sk-item::before, #sk-container-id-1 div.sk-parallel-item::before {content: \"\";position: absolute;border-left: 1px solid gray;box-sizing: border-box;top: 0;bottom: 0;left: 50%;z-index: -1;}#sk-container-id-1 div.sk-parallel-item {display: flex;flex-direction: column;z-index: 1;position: relative;background-color: white;}#sk-container-id-1 div.sk-parallel-item:first-child::after {align-self: flex-end;width: 50%;}#sk-container-id-1 div.sk-parallel-item:last-child::after {align-self: flex-start;width: 50%;}#sk-container-id-1 div.sk-parallel-item:only-child::after {width: 0;}#sk-container-id-1 div.sk-dashed-wrapped {border: 1px dashed gray;margin: 0 0.4em 0.5em 0.4em;box-sizing: border-box;padding-bottom: 0.4em;background-color: white;}#sk-container-id-1 div.sk-label label {font-family: monospace;font-weight: bold;display: inline-block;line-height: 1.2em;}#sk-container-id-1 div.sk-label-container {text-align: center;}#sk-container-id-1 div.sk-container {/* jupyter's `normalize.less` sets `[hidden] { display: none; }` but bootstrap.min.css set `[hidden] { display: none !important; }` so we also need the `!important` here to be able to override the default hidden behavior on the sphinx rendered scikit-learn.org. See: https://github.com/scikit-learn/scikit-learn/issues/21755 */display: inline-block !important;position: relative;}#sk-container-id-1 div.sk-text-repr-fallback {display: none;}</style><div id=\"sk-container-id-1\" class=\"sk-top-container\"><div class=\"sk-text-repr-fallback\"><pre>Pipeline(steps=[(&#x27;functiontransformer&#x27;,\n",
       "                 FunctionTransformer(func=&lt;function average_rides_last_4_weeks at 0x000001F57EE394C0&gt;)),\n",
       "                (&#x27;temporalfeaturesengineer&#x27;, TemporalFeaturesEngineer()),\n",
       "                (&#x27;lgbmregressor&#x27;,\n",
       "                 LGBMRegressor(bagging_fraction=0.48248153902367197,\n",
       "                               feature_fraction=0.6994885218816154,\n",
       "                               min_child_samples=6, num_leaves=70))])</pre><b>In a Jupyter environment, please rerun this cell to show the HTML representation or trust the notebook. <br />On GitHub, the HTML representation is unable to render, please try loading this page with nbviewer.org.</b></div><div class=\"sk-container\" hidden><div class=\"sk-item sk-dashed-wrapped\"><div class=\"sk-label-container\"><div class=\"sk-label sk-toggleable\"><input class=\"sk-toggleable__control sk-hidden--visually\" id=\"sk-estimator-id-1\" type=\"checkbox\" ><label for=\"sk-estimator-id-1\" class=\"sk-toggleable__label sk-toggleable__label-arrow\">Pipeline</label><div class=\"sk-toggleable__content\"><pre>Pipeline(steps=[(&#x27;functiontransformer&#x27;,\n",
       "                 FunctionTransformer(func=&lt;function average_rides_last_4_weeks at 0x000001F57EE394C0&gt;)),\n",
       "                (&#x27;temporalfeaturesengineer&#x27;, TemporalFeaturesEngineer()),\n",
       "                (&#x27;lgbmregressor&#x27;,\n",
       "                 LGBMRegressor(bagging_fraction=0.48248153902367197,\n",
       "                               feature_fraction=0.6994885218816154,\n",
       "                               min_child_samples=6, num_leaves=70))])</pre></div></div></div><div class=\"sk-serial\"><div class=\"sk-item\"><div class=\"sk-estimator sk-toggleable\"><input class=\"sk-toggleable__control sk-hidden--visually\" id=\"sk-estimator-id-2\" type=\"checkbox\" ><label for=\"sk-estimator-id-2\" class=\"sk-toggleable__label sk-toggleable__label-arrow\">FunctionTransformer</label><div class=\"sk-toggleable__content\"><pre>FunctionTransformer(func=&lt;function average_rides_last_4_weeks at 0x000001F57EE394C0&gt;)</pre></div></div></div><div class=\"sk-item\"><div class=\"sk-estimator sk-toggleable\"><input class=\"sk-toggleable__control sk-hidden--visually\" id=\"sk-estimator-id-3\" type=\"checkbox\" ><label for=\"sk-estimator-id-3\" class=\"sk-toggleable__label sk-toggleable__label-arrow\">TemporalFeaturesEngineer</label><div class=\"sk-toggleable__content\"><pre>TemporalFeaturesEngineer()</pre></div></div></div><div class=\"sk-item\"><div class=\"sk-estimator sk-toggleable\"><input class=\"sk-toggleable__control sk-hidden--visually\" id=\"sk-estimator-id-4\" type=\"checkbox\" ><label for=\"sk-estimator-id-4\" class=\"sk-toggleable__label sk-toggleable__label-arrow\">LGBMRegressor</label><div class=\"sk-toggleable__content\"><pre>LGBMRegressor(bagging_fraction=0.48248153902367197,\n",
       "              feature_fraction=0.6994885218816154, min_child_samples=6,\n",
       "              num_leaves=70)</pre></div></div></div></div></div></div></div>"
      ],
      "text/plain": [
       "Pipeline(steps=[('functiontransformer',\n",
       "                 FunctionTransformer(func=<function average_rides_last_4_weeks at 0x000001F57EE394C0>)),\n",
       "                ('temporalfeaturesengineer', TemporalFeaturesEngineer()),\n",
       "                ('lgbmregressor',\n",
       "                 LGBMRegressor(bagging_fraction=0.48248153902367197,\n",
       "                               feature_fraction=0.6994885218816154,\n",
       "                               min_child_samples=6, num_leaves=70))])"
      ]
     },
     "execution_count": 14,
     "metadata": {},
     "output_type": "execute_result"
    }
   ],
   "source": [
    "pipeline = get_pipeline(**best_params)\n",
    "pipeline.fit(X_train, y_train)"
   ]
  },
  {
   "cell_type": "code",
   "execution_count": 15,
   "metadata": {},
   "outputs": [
    {
     "name": "stdout",
     "output_type": "stream",
     "text": [
      "test_mae=2.6243\n"
     ]
    }
   ],
   "source": [
    "predictions = pipeline.predict(X_test)\n",
    "test_mae = mean_absolute_error(y_test, predictions)\n",
    "print(f'{test_mae=:.4f}')"
   ]
  },
  {
   "cell_type": "code",
   "execution_count": 16,
   "metadata": {},
   "outputs": [
    {
     "data": {
      "application/vnd.plotly.v1+json": {
       "config": {
        "plotlyServerURL": "https://plot.ly"
       },
       "data": [
        {
         "hovertemplate": "x=%{x}<br>y=%{y}<extra></extra>",
         "legendgroup": "",
         "line": {
          "color": "#636efa",
          "dash": "solid"
         },
         "marker": {
          "symbol": "circle"
         },
         "mode": "markers+lines",
         "name": "",
         "orientation": "v",
         "showlegend": false,
         "type": "scatter",
         "x": [
          "2023-05-13T00:00:00",
          "2023-05-13T01:00:00",
          "2023-05-13T02:00:00",
          "2023-05-13T03:00:00",
          "2023-05-13T04:00:00",
          "2023-05-13T05:00:00",
          "2023-05-13T06:00:00",
          "2023-05-13T07:00:00",
          "2023-05-13T08:00:00",
          "2023-05-13T09:00:00",
          "2023-05-13T10:00:00",
          "2023-05-13T11:00:00",
          "2023-05-13T12:00:00",
          "2023-05-13T13:00:00",
          "2023-05-13T14:00:00",
          "2023-05-13T15:00:00",
          "2023-05-13T16:00:00",
          "2023-05-13T17:00:00",
          "2023-05-13T18:00:00",
          "2023-05-13T19:00:00",
          "2023-05-13T20:00:00",
          "2023-05-13T21:00:00",
          "2023-05-13T22:00:00",
          "2023-05-13T23:00:00",
          "2023-05-14T00:00:00",
          "2023-05-14T01:00:00",
          "2023-05-14T02:00:00",
          "2023-05-14T03:00:00",
          "2023-05-14T04:00:00",
          "2023-05-14T05:00:00",
          "2023-05-14T06:00:00",
          "2023-05-14T07:00:00",
          "2023-05-14T08:00:00",
          "2023-05-14T09:00:00",
          "2023-05-14T10:00:00",
          "2023-05-14T11:00:00",
          "2023-05-14T12:00:00",
          "2023-05-14T13:00:00",
          "2023-05-14T14:00:00",
          "2023-05-14T15:00:00",
          "2023-05-14T16:00:00",
          "2023-05-14T17:00:00",
          "2023-05-14T18:00:00",
          "2023-05-14T19:00:00",
          "2023-05-14T20:00:00",
          "2023-05-14T21:00:00",
          "2023-05-14T22:00:00",
          "2023-05-14T23:00:00",
          "2023-05-15T00:00:00",
          "2023-05-15T01:00:00",
          "2023-05-15T02:00:00",
          "2023-05-15T03:00:00",
          "2023-05-15T04:00:00",
          "2023-05-15T05:00:00",
          "2023-05-15T06:00:00",
          "2023-05-15T07:00:00",
          "2023-05-15T08:00:00",
          "2023-05-15T09:00:00",
          "2023-05-15T10:00:00",
          "2023-05-15T11:00:00",
          "2023-05-15T12:00:00",
          "2023-05-15T13:00:00",
          "2023-05-15T14:00:00",
          "2023-05-15T15:00:00",
          "2023-05-15T16:00:00",
          "2023-05-15T17:00:00",
          "2023-05-15T18:00:00",
          "2023-05-15T19:00:00",
          "2023-05-15T20:00:00",
          "2023-05-15T21:00:00",
          "2023-05-15T22:00:00",
          "2023-05-15T23:00:00",
          "2023-05-16T00:00:00",
          "2023-05-16T01:00:00",
          "2023-05-16T02:00:00",
          "2023-05-16T03:00:00",
          "2023-05-16T04:00:00",
          "2023-05-16T05:00:00",
          "2023-05-16T06:00:00",
          "2023-05-16T07:00:00",
          "2023-05-16T08:00:00",
          "2023-05-16T09:00:00",
          "2023-05-16T10:00:00",
          "2023-05-16T11:00:00",
          "2023-05-16T12:00:00",
          "2023-05-16T13:00:00",
          "2023-05-16T14:00:00",
          "2023-05-16T15:00:00",
          "2023-05-16T16:00:00",
          "2023-05-16T17:00:00",
          "2023-05-16T18:00:00",
          "2023-05-16T19:00:00",
          "2023-05-16T20:00:00",
          "2023-05-16T21:00:00",
          "2023-05-16T22:00:00",
          "2023-05-16T23:00:00",
          "2023-05-17T00:00:00",
          "2023-05-17T01:00:00",
          "2023-05-17T02:00:00",
          "2023-05-17T03:00:00",
          "2023-05-17T04:00:00",
          "2023-05-17T05:00:00",
          "2023-05-17T06:00:00",
          "2023-05-17T07:00:00",
          "2023-05-17T08:00:00",
          "2023-05-17T09:00:00",
          "2023-05-17T10:00:00",
          "2023-05-17T11:00:00",
          "2023-05-17T12:00:00",
          "2023-05-17T13:00:00",
          "2023-05-17T14:00:00",
          "2023-05-17T15:00:00",
          "2023-05-17T16:00:00",
          "2023-05-17T17:00:00",
          "2023-05-17T18:00:00",
          "2023-05-17T19:00:00",
          "2023-05-17T20:00:00",
          "2023-05-17T21:00:00",
          "2023-05-17T22:00:00",
          "2023-05-17T23:00:00",
          "2023-05-18T00:00:00",
          "2023-05-18T01:00:00",
          "2023-05-18T02:00:00",
          "2023-05-18T03:00:00",
          "2023-05-18T04:00:00",
          "2023-05-18T05:00:00",
          "2023-05-18T06:00:00",
          "2023-05-18T07:00:00",
          "2023-05-18T08:00:00",
          "2023-05-18T09:00:00",
          "2023-05-18T10:00:00",
          "2023-05-18T11:00:00",
          "2023-05-18T12:00:00",
          "2023-05-18T13:00:00",
          "2023-05-18T14:00:00",
          "2023-05-18T15:00:00",
          "2023-05-18T16:00:00",
          "2023-05-18T17:00:00",
          "2023-05-18T18:00:00",
          "2023-05-18T19:00:00",
          "2023-05-18T20:00:00",
          "2023-05-18T21:00:00",
          "2023-05-18T22:00:00",
          "2023-05-18T23:00:00",
          "2023-05-19T00:00:00",
          "2023-05-19T01:00:00",
          "2023-05-19T02:00:00",
          "2023-05-19T03:00:00",
          "2023-05-19T04:00:00",
          "2023-05-19T05:00:00",
          "2023-05-19T06:00:00",
          "2023-05-19T07:00:00",
          "2023-05-19T08:00:00",
          "2023-05-19T09:00:00",
          "2023-05-19T10:00:00",
          "2023-05-19T11:00:00",
          "2023-05-19T12:00:00",
          "2023-05-19T13:00:00",
          "2023-05-19T14:00:00",
          "2023-05-19T15:00:00",
          "2023-05-19T16:00:00",
          "2023-05-19T17:00:00",
          "2023-05-19T18:00:00",
          "2023-05-19T19:00:00",
          "2023-05-19T20:00:00",
          "2023-05-19T21:00:00",
          "2023-05-19T22:00:00",
          "2023-05-19T23:00:00",
          "2023-05-20T00:00:00",
          "2023-05-20T01:00:00",
          "2023-05-20T02:00:00",
          "2023-05-20T03:00:00",
          "2023-05-20T04:00:00",
          "2023-05-20T05:00:00",
          "2023-05-20T06:00:00",
          "2023-05-20T07:00:00",
          "2023-05-20T08:00:00",
          "2023-05-20T09:00:00",
          "2023-05-20T10:00:00",
          "2023-05-20T11:00:00",
          "2023-05-20T12:00:00",
          "2023-05-20T13:00:00",
          "2023-05-20T14:00:00",
          "2023-05-20T15:00:00",
          "2023-05-20T16:00:00",
          "2023-05-20T17:00:00",
          "2023-05-20T18:00:00",
          "2023-05-20T19:00:00",
          "2023-05-20T20:00:00",
          "2023-05-20T21:00:00",
          "2023-05-20T22:00:00",
          "2023-05-20T23:00:00",
          "2023-05-21T00:00:00",
          "2023-05-21T01:00:00",
          "2023-05-21T02:00:00",
          "2023-05-21T03:00:00",
          "2023-05-21T04:00:00",
          "2023-05-21T05:00:00",
          "2023-05-21T06:00:00",
          "2023-05-21T07:00:00",
          "2023-05-21T08:00:00",
          "2023-05-21T09:00:00",
          "2023-05-21T10:00:00",
          "2023-05-21T11:00:00",
          "2023-05-21T12:00:00",
          "2023-05-21T13:00:00",
          "2023-05-21T14:00:00",
          "2023-05-21T15:00:00",
          "2023-05-21T16:00:00",
          "2023-05-21T17:00:00",
          "2023-05-21T18:00:00",
          "2023-05-21T19:00:00",
          "2023-05-21T20:00:00",
          "2023-05-21T21:00:00",
          "2023-05-21T22:00:00",
          "2023-05-21T23:00:00",
          "2023-05-22T00:00:00",
          "2023-05-22T01:00:00",
          "2023-05-22T02:00:00",
          "2023-05-22T03:00:00",
          "2023-05-22T04:00:00",
          "2023-05-22T05:00:00",
          "2023-05-22T06:00:00",
          "2023-05-22T07:00:00",
          "2023-05-22T08:00:00",
          "2023-05-22T09:00:00",
          "2023-05-22T10:00:00",
          "2023-05-22T11:00:00",
          "2023-05-22T12:00:00",
          "2023-05-22T13:00:00",
          "2023-05-22T14:00:00",
          "2023-05-22T15:00:00",
          "2023-05-22T16:00:00",
          "2023-05-22T17:00:00",
          "2023-05-22T18:00:00",
          "2023-05-22T19:00:00",
          "2023-05-22T20:00:00",
          "2023-05-22T21:00:00",
          "2023-05-22T22:00:00",
          "2023-05-22T23:00:00",
          "2023-05-23T00:00:00",
          "2023-05-23T01:00:00",
          "2023-05-23T02:00:00",
          "2023-05-23T03:00:00",
          "2023-05-23T04:00:00",
          "2023-05-23T05:00:00",
          "2023-05-23T06:00:00",
          "2023-05-23T07:00:00",
          "2023-05-23T08:00:00",
          "2023-05-23T09:00:00",
          "2023-05-23T10:00:00",
          "2023-05-23T11:00:00",
          "2023-05-23T12:00:00",
          "2023-05-23T13:00:00",
          "2023-05-23T14:00:00",
          "2023-05-23T15:00:00",
          "2023-05-23T16:00:00",
          "2023-05-23T17:00:00",
          "2023-05-23T18:00:00",
          "2023-05-23T19:00:00",
          "2023-05-23T20:00:00",
          "2023-05-23T21:00:00",
          "2023-05-23T22:00:00",
          "2023-05-23T23:00:00",
          "2023-05-24T00:00:00",
          "2023-05-24T01:00:00",
          "2023-05-24T02:00:00",
          "2023-05-24T03:00:00",
          "2023-05-24T04:00:00",
          "2023-05-24T05:00:00",
          "2023-05-24T06:00:00",
          "2023-05-24T07:00:00",
          "2023-05-24T08:00:00",
          "2023-05-24T09:00:00",
          "2023-05-24T10:00:00",
          "2023-05-24T11:00:00",
          "2023-05-24T12:00:00",
          "2023-05-24T13:00:00",
          "2023-05-24T14:00:00",
          "2023-05-24T15:00:00",
          "2023-05-24T16:00:00",
          "2023-05-24T17:00:00",
          "2023-05-24T18:00:00",
          "2023-05-24T19:00:00",
          "2023-05-24T20:00:00",
          "2023-05-24T21:00:00",
          "2023-05-24T22:00:00",
          "2023-05-24T23:00:00",
          "2023-05-25T00:00:00",
          "2023-05-25T01:00:00",
          "2023-05-25T02:00:00",
          "2023-05-25T03:00:00",
          "2023-05-25T04:00:00",
          "2023-05-25T05:00:00",
          "2023-05-25T06:00:00",
          "2023-05-25T07:00:00",
          "2023-05-25T08:00:00",
          "2023-05-25T09:00:00",
          "2023-05-25T10:00:00",
          "2023-05-25T11:00:00",
          "2023-05-25T12:00:00",
          "2023-05-25T13:00:00",
          "2023-05-25T14:00:00",
          "2023-05-25T15:00:00",
          "2023-05-25T16:00:00",
          "2023-05-25T17:00:00",
          "2023-05-25T18:00:00",
          "2023-05-25T19:00:00",
          "2023-05-25T20:00:00",
          "2023-05-25T21:00:00",
          "2023-05-25T22:00:00",
          "2023-05-25T23:00:00",
          "2023-05-26T00:00:00",
          "2023-05-26T01:00:00",
          "2023-05-26T02:00:00",
          "2023-05-26T03:00:00",
          "2023-05-26T04:00:00",
          "2023-05-26T05:00:00",
          "2023-05-26T06:00:00",
          "2023-05-26T07:00:00",
          "2023-05-26T08:00:00",
          "2023-05-26T09:00:00",
          "2023-05-26T10:00:00",
          "2023-05-26T11:00:00",
          "2023-05-26T12:00:00",
          "2023-05-26T13:00:00",
          "2023-05-26T14:00:00",
          "2023-05-26T15:00:00",
          "2023-05-26T16:00:00",
          "2023-05-26T17:00:00",
          "2023-05-26T18:00:00",
          "2023-05-26T19:00:00",
          "2023-05-26T20:00:00",
          "2023-05-26T21:00:00",
          "2023-05-26T22:00:00",
          "2023-05-26T23:00:00",
          "2023-05-27T00:00:00",
          "2023-05-27T01:00:00",
          "2023-05-27T02:00:00",
          "2023-05-27T03:00:00",
          "2023-05-27T04:00:00",
          "2023-05-27T05:00:00",
          "2023-05-27T06:00:00",
          "2023-05-27T07:00:00",
          "2023-05-27T08:00:00",
          "2023-05-27T09:00:00",
          "2023-05-27T10:00:00",
          "2023-05-27T11:00:00",
          "2023-05-27T12:00:00",
          "2023-05-27T13:00:00",
          "2023-05-27T14:00:00",
          "2023-05-27T15:00:00",
          "2023-05-27T16:00:00",
          "2023-05-27T17:00:00",
          "2023-05-27T18:00:00",
          "2023-05-27T19:00:00",
          "2023-05-27T20:00:00",
          "2023-05-27T21:00:00",
          "2023-05-27T22:00:00",
          "2023-05-27T23:00:00",
          "2023-05-28T00:00:00",
          "2023-05-28T01:00:00",
          "2023-05-28T02:00:00",
          "2023-05-28T03:00:00",
          "2023-05-28T04:00:00",
          "2023-05-28T05:00:00",
          "2023-05-28T06:00:00",
          "2023-05-28T07:00:00",
          "2023-05-28T08:00:00",
          "2023-05-28T09:00:00",
          "2023-05-28T10:00:00",
          "2023-05-28T11:00:00",
          "2023-05-28T12:00:00",
          "2023-05-28T13:00:00",
          "2023-05-28T14:00:00",
          "2023-05-28T15:00:00",
          "2023-05-28T16:00:00",
          "2023-05-28T17:00:00",
          "2023-05-28T18:00:00",
          "2023-05-28T19:00:00",
          "2023-05-28T20:00:00",
          "2023-05-28T21:00:00",
          "2023-05-28T22:00:00",
          "2023-05-28T23:00:00",
          "2023-05-29T00:00:00",
          "2023-05-29T01:00:00",
          "2023-05-29T02:00:00",
          "2023-05-29T03:00:00",
          "2023-05-29T04:00:00",
          "2023-05-29T05:00:00",
          "2023-05-29T06:00:00",
          "2023-05-29T07:00:00",
          "2023-05-29T08:00:00",
          "2023-05-29T09:00:00",
          "2023-05-29T10:00:00",
          "2023-05-29T11:00:00",
          "2023-05-29T12:00:00",
          "2023-05-29T13:00:00",
          "2023-05-29T14:00:00",
          "2023-05-29T15:00:00",
          "2023-05-29T16:00:00",
          "2023-05-29T17:00:00",
          "2023-05-29T18:00:00",
          "2023-05-29T19:00:00",
          "2023-05-29T20:00:00",
          "2023-05-29T21:00:00",
          "2023-05-29T22:00:00",
          "2023-05-29T23:00:00",
          "2023-05-30T00:00:00",
          "2023-05-30T01:00:00",
          "2023-05-30T02:00:00",
          "2023-05-30T03:00:00",
          "2023-05-30T04:00:00",
          "2023-05-30T05:00:00",
          "2023-05-30T06:00:00",
          "2023-05-30T07:00:00",
          "2023-05-30T08:00:00",
          "2023-05-30T09:00:00",
          "2023-05-30T10:00:00",
          "2023-05-30T11:00:00",
          "2023-05-30T12:00:00",
          "2023-05-30T13:00:00",
          "2023-05-30T14:00:00",
          "2023-05-30T15:00:00",
          "2023-05-30T16:00:00",
          "2023-05-30T17:00:00",
          "2023-05-30T18:00:00",
          "2023-05-30T19:00:00",
          "2023-05-30T20:00:00",
          "2023-05-30T21:00:00",
          "2023-05-30T22:00:00",
          "2023-05-30T23:00:00",
          "2023-05-31T00:00:00",
          "2023-05-31T01:00:00",
          "2023-05-31T02:00:00",
          "2023-05-31T03:00:00",
          "2023-05-31T04:00:00",
          "2023-05-31T05:00:00",
          "2023-05-31T06:00:00",
          "2023-05-31T07:00:00",
          "2023-05-31T08:00:00",
          "2023-05-31T09:00:00",
          "2023-05-31T10:00:00",
          "2023-05-31T11:00:00",
          "2023-05-31T12:00:00",
          "2023-05-31T13:00:00",
          "2023-05-31T14:00:00",
          "2023-05-31T15:00:00",
          "2023-05-31T16:00:00",
          "2023-05-31T17:00:00",
          "2023-05-31T18:00:00",
          "2023-05-31T19:00:00",
          "2023-05-31T20:00:00",
          "2023-05-31T21:00:00",
          "2023-05-31T22:00:00",
          "2023-05-31T23:00:00",
          "2023-06-01T00:00:00",
          "2023-06-01T01:00:00",
          "2023-06-01T02:00:00",
          "2023-06-01T03:00:00",
          "2023-06-01T04:00:00",
          "2023-06-01T05:00:00",
          "2023-06-01T06:00:00",
          "2023-06-01T07:00:00",
          "2023-06-01T08:00:00",
          "2023-06-01T09:00:00",
          "2023-06-01T10:00:00",
          "2023-06-01T11:00:00",
          "2023-06-01T12:00:00",
          "2023-06-01T13:00:00",
          "2023-06-01T14:00:00",
          "2023-06-01T15:00:00",
          "2023-06-01T16:00:00",
          "2023-06-01T17:00:00",
          "2023-06-01T18:00:00",
          "2023-06-01T19:00:00",
          "2023-06-01T20:00:00",
          "2023-06-01T21:00:00",
          "2023-06-01T22:00:00",
          "2023-06-01T23:00:00",
          "2023-06-02T00:00:00",
          "2023-06-02T01:00:00",
          "2023-06-02T02:00:00",
          "2023-06-02T03:00:00",
          "2023-06-02T04:00:00",
          "2023-06-02T05:00:00",
          "2023-06-02T06:00:00",
          "2023-06-02T07:00:00",
          "2023-06-02T08:00:00",
          "2023-06-02T09:00:00",
          "2023-06-02T10:00:00",
          "2023-06-02T11:00:00",
          "2023-06-02T12:00:00",
          "2023-06-02T13:00:00",
          "2023-06-02T14:00:00",
          "2023-06-02T15:00:00",
          "2023-06-02T16:00:00",
          "2023-06-02T17:00:00",
          "2023-06-02T18:00:00",
          "2023-06-02T19:00:00",
          "2023-06-02T20:00:00",
          "2023-06-02T21:00:00",
          "2023-06-02T22:00:00",
          "2023-06-02T23:00:00",
          "2023-06-03T00:00:00",
          "2023-06-03T01:00:00",
          "2023-06-03T02:00:00",
          "2023-06-03T03:00:00",
          "2023-06-03T04:00:00",
          "2023-06-03T05:00:00",
          "2023-06-03T06:00:00",
          "2023-06-03T07:00:00",
          "2023-06-03T08:00:00",
          "2023-06-03T09:00:00",
          "2023-06-03T10:00:00",
          "2023-06-03T11:00:00",
          "2023-06-03T12:00:00",
          "2023-06-03T13:00:00",
          "2023-06-03T14:00:00",
          "2023-06-03T15:00:00",
          "2023-06-03T16:00:00",
          "2023-06-03T17:00:00",
          "2023-06-03T18:00:00",
          "2023-06-03T19:00:00",
          "2023-06-03T20:00:00",
          "2023-06-03T21:00:00",
          "2023-06-03T22:00:00",
          "2023-06-03T23:00:00",
          "2023-06-04T00:00:00",
          "2023-06-04T01:00:00",
          "2023-06-04T02:00:00",
          "2023-06-04T03:00:00",
          "2023-06-04T04:00:00",
          "2023-06-04T05:00:00",
          "2023-06-04T06:00:00",
          "2023-06-04T07:00:00",
          "2023-06-04T08:00:00",
          "2023-06-04T09:00:00",
          "2023-06-04T10:00:00",
          "2023-06-04T11:00:00",
          "2023-06-04T12:00:00",
          "2023-06-04T13:00:00",
          "2023-06-04T14:00:00",
          "2023-06-04T15:00:00",
          "2023-06-04T16:00:00",
          "2023-06-04T17:00:00",
          "2023-06-04T18:00:00",
          "2023-06-04T19:00:00",
          "2023-06-04T20:00:00",
          "2023-06-04T21:00:00",
          "2023-06-04T22:00:00",
          "2023-06-04T23:00:00",
          "2023-06-05T00:00:00",
          "2023-06-05T01:00:00",
          "2023-06-05T02:00:00",
          "2023-06-05T03:00:00",
          "2023-06-05T04:00:00",
          "2023-06-05T05:00:00",
          "2023-06-05T06:00:00",
          "2023-06-05T07:00:00",
          "2023-06-05T08:00:00",
          "2023-06-05T09:00:00",
          "2023-06-05T10:00:00",
          "2023-06-05T11:00:00",
          "2023-06-05T12:00:00",
          "2023-06-05T13:00:00",
          "2023-06-05T14:00:00",
          "2023-06-05T15:00:00",
          "2023-06-05T16:00:00",
          "2023-06-05T17:00:00",
          "2023-06-05T18:00:00",
          "2023-06-05T19:00:00",
          "2023-06-05T20:00:00",
          "2023-06-05T21:00:00",
          "2023-06-05T22:00:00",
          "2023-06-05T23:00:00",
          "2023-06-06T00:00:00",
          "2023-06-06T01:00:00",
          "2023-06-06T02:00:00",
          "2023-06-06T03:00:00",
          "2023-06-06T04:00:00",
          "2023-06-06T05:00:00",
          "2023-06-06T06:00:00",
          "2023-06-06T07:00:00",
          "2023-06-06T08:00:00",
          "2023-06-06T09:00:00",
          "2023-06-06T10:00:00",
          "2023-06-06T11:00:00",
          "2023-06-06T12:00:00",
          "2023-06-06T13:00:00",
          "2023-06-06T14:00:00",
          "2023-06-06T15:00:00",
          "2023-06-06T16:00:00",
          "2023-06-06T17:00:00",
          "2023-06-06T18:00:00",
          "2023-06-06T19:00:00",
          "2023-06-06T20:00:00",
          "2023-06-06T21:00:00",
          "2023-06-06T22:00:00",
          "2023-06-06T23:00:00",
          "2023-06-07T00:00:00",
          "2023-06-07T01:00:00",
          "2023-06-07T02:00:00",
          "2023-06-07T03:00:00",
          "2023-06-07T04:00:00",
          "2023-06-07T05:00:00",
          "2023-06-07T06:00:00",
          "2023-06-07T07:00:00",
          "2023-06-07T08:00:00",
          "2023-06-07T09:00:00",
          "2023-06-07T10:00:00",
          "2023-06-07T11:00:00",
          "2023-06-07T12:00:00",
          "2023-06-07T13:00:00",
          "2023-06-07T14:00:00",
          "2023-06-07T15:00:00",
          "2023-06-07T16:00:00",
          "2023-06-07T17:00:00",
          "2023-06-07T18:00:00",
          "2023-06-07T19:00:00",
          "2023-06-07T20:00:00",
          "2023-06-07T21:00:00",
          "2023-06-07T22:00:00",
          "2023-06-07T23:00:00",
          "2023-06-08T00:00:00",
          "2023-06-08T01:00:00",
          "2023-06-08T02:00:00",
          "2023-06-08T03:00:00",
          "2023-06-08T04:00:00",
          "2023-06-08T05:00:00",
          "2023-06-08T06:00:00",
          "2023-06-08T07:00:00",
          "2023-06-08T08:00:00",
          "2023-06-08T09:00:00",
          "2023-06-08T10:00:00",
          "2023-06-08T11:00:00",
          "2023-06-08T12:00:00",
          "2023-06-08T13:00:00",
          "2023-06-08T14:00:00",
          "2023-06-08T15:00:00",
          "2023-06-08T16:00:00",
          "2023-06-08T17:00:00",
          "2023-06-08T18:00:00",
          "2023-06-08T19:00:00",
          "2023-06-08T20:00:00",
          "2023-06-08T21:00:00",
          "2023-06-08T22:00:00",
          "2023-06-08T23:00:00",
          "2023-06-09T00:00:00",
          "2023-06-09T01:00:00",
          "2023-06-09T02:00:00",
          "2023-06-09T03:00:00",
          "2023-06-09T04:00:00",
          "2023-06-09T05:00:00",
          "2023-06-09T06:00:00",
          "2023-06-09T07:00:00",
          "2023-06-09T08:00:00",
          "2023-06-09T09:00:00",
          "2023-06-09T10:00:00",
          "2023-06-09T11:00:00",
          "2023-06-09T12:00:00",
          "2023-06-09T13:00:00",
          "2023-06-09T14:00:00",
          "2023-06-09T15:00:00",
          "2023-06-09T16:00:00",
          "2023-06-09T17:00:00",
          "2023-06-09T18:00:00",
          "2023-06-09T19:00:00",
          "2023-06-09T20:00:00",
          "2023-06-09T21:00:00",
          "2023-06-09T22:00:00",
          "2023-06-09T23:00:00",
          "2023-06-10T00:00:00"
         ],
         "xaxis": "x",
         "y": [
          64,
          55,
          32,
          24,
          24,
          21,
          40,
          32,
          44,
          71,
          74,
          83,
          87,
          105,
          65,
          98,
          102,
          94,
          120,
          122,
          62,
          86,
          96,
          80,
          81,
          46,
          38,
          35,
          23,
          10,
          18,
          35,
          24,
          60,
          74,
          88,
          98,
          90,
          80,
          101,
          90,
          112,
          108,
          85,
          85,
          96,
          88,
          46,
          19,
          10,
          8,
          8,
          6,
          45,
          102,
          75,
          79,
          71,
          88,
          105,
          76,
          91,
          105,
          89,
          122,
          143,
          154,
          91,
          90,
          88,
          75,
          54,
          31,
          10,
          6,
          4,
          10,
          34,
          115,
          96,
          91,
          84,
          86,
          92,
          97,
          71,
          89,
          105,
          119,
          164,
          160,
          134,
          117,
          109,
          88,
          59,
          34,
          18,
          12,
          18,
          13,
          31,
          104,
          119,
          81,
          80,
          102,
          109,
          108,
          95,
          96,
          97,
          124,
          118,
          154,
          128,
          110,
          117,
          94,
          68,
          47,
          27,
          11,
          10,
          10,
          52,
          126,
          103,
          89,
          81,
          106,
          114,
          99,
          103,
          102,
          102,
          105,
          124,
          165,
          121,
          126,
          128,
          101,
          81,
          58,
          44,
          20,
          25,
          24,
          34,
          86,
          72,
          80,
          82,
          89,
          88,
          85,
          87,
          71,
          96,
          118,
          130,
          137,
          102,
          93,
          85,
          111,
          101,
          68,
          64,
          50,
          37,
          33,
          15,
          35,
          26,
          43,
          53,
          84,
          105,
          82,
          97,
          77,
          75,
          89,
          62,
          76,
          73,
          61,
          76,
          106,
          87,
          61,
          66,
          54,
          36,
          26,
          12,
          13,
          27,
          37,
          48,
          81,
          69,
          68,
          64,
          74,
          56,
          58,
          103,
          81,
          78,
          90,
          61,
          58,
          47,
          13,
          19,
          11,
          12,
          15,
          35,
          115,
          79,
          79,
          88,
          92,
          75,
          76,
          82,
          92,
          99,
          95,
          141,
          127,
          106,
          92,
          81,
          67,
          63,
          22,
          13,
          14,
          5,
          7,
          56,
          118,
          95,
          99,
          94,
          82,
          87,
          69,
          78,
          79,
          115,
          120,
          137,
          145,
          111,
          133,
          126,
          63,
          94,
          50,
          28,
          25,
          14,
          10,
          36,
          123,
          84,
          94,
          95,
          91,
          87,
          109,
          95,
          110,
          97,
          105,
          159,
          137,
          160,
          150,
          131,
          112,
          65,
          57,
          24,
          14,
          13,
          11,
          52,
          93,
          95,
          87,
          81,
          89,
          85,
          81,
          76,
          86,
          92,
          118,
          124,
          125,
          130,
          83,
          112,
          99,
          86,
          56,
          23,
          21,
          15,
          13,
          38,
          77,
          64,
          60,
          63,
          71,
          71,
          86,
          90,
          93,
          90,
          118,
          99,
          114,
          95,
          76,
          63,
          99,
          63,
          82,
          126,
          28,
          30,
          21,
          23,
          42,
          27,
          31,
          67,
          79,
          105,
          109,
          126,
          92,
          73,
          137,
          129,
          88,
          93,
          64,
          60,
          95,
          67,
          75,
          76,
          28,
          26,
          22,
          10,
          23,
          26,
          26,
          54,
          67,
          55,
          74,
          71,
          75,
          69,
          75,
          74,
          73,
          66,
          66,
          60,
          70,
          62,
          111,
          95,
          14,
          15,
          13,
          7,
          21,
          26,
          32,
          45,
          60,
          74,
          70,
          80,
          90,
          84,
          111,
          82,
          95,
          90,
          79,
          89,
          62,
          42,
          18,
          7,
          11,
          8,
          10,
          40,
          95,
          109,
          77,
          85,
          102,
          86,
          84,
          86,
          79,
          81,
          92,
          132,
          102,
          93,
          78,
          92,
          62,
          76,
          42,
          18,
          13,
          9,
          4,
          45,
          79,
          109,
          82,
          77,
          88,
          80,
          95,
          95,
          93,
          106,
          115,
          135,
          149,
          121,
          105,
          96,
          92,
          100,
          49,
          20,
          7,
          12,
          5,
          56,
          109,
          96,
          78,
          101,
          102,
          100,
          102,
          93,
          99,
          98,
          107,
          131,
          145,
          110,
          105,
          132,
          73,
          71,
          52,
          27,
          13,
          13,
          5,
          39,
          72,
          78,
          68,
          69,
          91,
          78,
          84,
          88,
          100,
          105,
          101,
          111,
          143,
          110,
          71,
          77,
          106,
          111,
          81,
          59,
          28,
          30,
          18,
          21,
          29,
          40,
          35,
          59,
          75,
          69,
          70,
          73,
          68,
          80,
          112,
          102,
          83,
          95,
          72,
          71,
          113,
          86,
          79,
          52,
          45,
          29,
          28,
          8,
          13,
          24,
          28,
          50,
          65,
          50,
          65,
          91,
          72,
          72,
          81,
          100,
          96,
          71,
          80,
          71,
          54,
          37,
          20,
          18,
          4,
          5,
          12,
          60,
          71,
          105,
          91,
          89,
          75,
          82,
          81,
          98,
          90,
          96,
          109,
          134,
          126,
          110,
          100,
          52,
          74,
          51,
          37,
          9,
          12,
          8,
          6,
          57,
          58,
          101,
          72,
          93,
          68,
          114,
          80,
          89,
          107,
          111,
          116,
          152,
          167,
          158,
          126,
          119,
          133,
          108,
          30,
          26,
          15,
          6,
          7,
          57,
          81,
          106,
          98,
          88,
          98,
          96,
          109,
          108,
          108,
          115,
          136,
          133,
          138,
          131,
          114,
          117,
          132,
          102,
          36,
          20,
          15,
          9,
          7,
          57,
          78,
          97,
          105,
          94,
          88,
          90,
          87,
          80,
          98,
          101,
          109,
          136,
          194,
          130,
          104,
          115,
          117,
          87,
          57,
          42,
          19,
          8,
          7,
          44,
          60,
          71,
          64,
          72,
          75,
          74,
          61,
          88,
          66,
          109,
          98,
          143,
          106,
          96,
          74,
          66,
          114,
          87,
          61
         ],
         "yaxis": "y"
        },
        {
         "line": {
          "color": "green"
         },
         "marker": {
          "size": 10
         },
         "mode": "markers",
         "name": "actual value",
         "type": "scatter",
         "x": [
          "2023-06-10T00:00:00"
         ],
         "y": [
          61
         ]
        },
        {
         "line": {
          "color": "red"
         },
         "marker": {
          "size": 15,
          "symbol": "x"
         },
         "mode": "markers",
         "name": "prediction",
         "type": "scatter",
         "x": [
          "2023-06-10T00:00:00"
         ],
         "y": [
          73.46672083371314
         ]
        }
       ],
       "layout": {
        "legend": {
         "tracegroupgap": 0
        },
        "template": {
         "data": {
          "bar": [
           {
            "error_x": {
             "color": "#f2f5fa"
            },
            "error_y": {
             "color": "#f2f5fa"
            },
            "marker": {
             "line": {
              "color": "rgb(17,17,17)",
              "width": 0.5
             },
             "pattern": {
              "fillmode": "overlay",
              "size": 10,
              "solidity": 0.2
             }
            },
            "type": "bar"
           }
          ],
          "barpolar": [
           {
            "marker": {
             "line": {
              "color": "rgb(17,17,17)",
              "width": 0.5
             },
             "pattern": {
              "fillmode": "overlay",
              "size": 10,
              "solidity": 0.2
             }
            },
            "type": "barpolar"
           }
          ],
          "carpet": [
           {
            "aaxis": {
             "endlinecolor": "#A2B1C6",
             "gridcolor": "#506784",
             "linecolor": "#506784",
             "minorgridcolor": "#506784",
             "startlinecolor": "#A2B1C6"
            },
            "baxis": {
             "endlinecolor": "#A2B1C6",
             "gridcolor": "#506784",
             "linecolor": "#506784",
             "minorgridcolor": "#506784",
             "startlinecolor": "#A2B1C6"
            },
            "type": "carpet"
           }
          ],
          "choropleth": [
           {
            "colorbar": {
             "outlinewidth": 0,
             "ticks": ""
            },
            "type": "choropleth"
           }
          ],
          "contour": [
           {
            "colorbar": {
             "outlinewidth": 0,
             "ticks": ""
            },
            "colorscale": [
             [
              0,
              "#0d0887"
             ],
             [
              0.1111111111111111,
              "#46039f"
             ],
             [
              0.2222222222222222,
              "#7201a8"
             ],
             [
              0.3333333333333333,
              "#9c179e"
             ],
             [
              0.4444444444444444,
              "#bd3786"
             ],
             [
              0.5555555555555556,
              "#d8576b"
             ],
             [
              0.6666666666666666,
              "#ed7953"
             ],
             [
              0.7777777777777778,
              "#fb9f3a"
             ],
             [
              0.8888888888888888,
              "#fdca26"
             ],
             [
              1,
              "#f0f921"
             ]
            ],
            "type": "contour"
           }
          ],
          "contourcarpet": [
           {
            "colorbar": {
             "outlinewidth": 0,
             "ticks": ""
            },
            "type": "contourcarpet"
           }
          ],
          "heatmap": [
           {
            "colorbar": {
             "outlinewidth": 0,
             "ticks": ""
            },
            "colorscale": [
             [
              0,
              "#0d0887"
             ],
             [
              0.1111111111111111,
              "#46039f"
             ],
             [
              0.2222222222222222,
              "#7201a8"
             ],
             [
              0.3333333333333333,
              "#9c179e"
             ],
             [
              0.4444444444444444,
              "#bd3786"
             ],
             [
              0.5555555555555556,
              "#d8576b"
             ],
             [
              0.6666666666666666,
              "#ed7953"
             ],
             [
              0.7777777777777778,
              "#fb9f3a"
             ],
             [
              0.8888888888888888,
              "#fdca26"
             ],
             [
              1,
              "#f0f921"
             ]
            ],
            "type": "heatmap"
           }
          ],
          "heatmapgl": [
           {
            "colorbar": {
             "outlinewidth": 0,
             "ticks": ""
            },
            "colorscale": [
             [
              0,
              "#0d0887"
             ],
             [
              0.1111111111111111,
              "#46039f"
             ],
             [
              0.2222222222222222,
              "#7201a8"
             ],
             [
              0.3333333333333333,
              "#9c179e"
             ],
             [
              0.4444444444444444,
              "#bd3786"
             ],
             [
              0.5555555555555556,
              "#d8576b"
             ],
             [
              0.6666666666666666,
              "#ed7953"
             ],
             [
              0.7777777777777778,
              "#fb9f3a"
             ],
             [
              0.8888888888888888,
              "#fdca26"
             ],
             [
              1,
              "#f0f921"
             ]
            ],
            "type": "heatmapgl"
           }
          ],
          "histogram": [
           {
            "marker": {
             "pattern": {
              "fillmode": "overlay",
              "size": 10,
              "solidity": 0.2
             }
            },
            "type": "histogram"
           }
          ],
          "histogram2d": [
           {
            "colorbar": {
             "outlinewidth": 0,
             "ticks": ""
            },
            "colorscale": [
             [
              0,
              "#0d0887"
             ],
             [
              0.1111111111111111,
              "#46039f"
             ],
             [
              0.2222222222222222,
              "#7201a8"
             ],
             [
              0.3333333333333333,
              "#9c179e"
             ],
             [
              0.4444444444444444,
              "#bd3786"
             ],
             [
              0.5555555555555556,
              "#d8576b"
             ],
             [
              0.6666666666666666,
              "#ed7953"
             ],
             [
              0.7777777777777778,
              "#fb9f3a"
             ],
             [
              0.8888888888888888,
              "#fdca26"
             ],
             [
              1,
              "#f0f921"
             ]
            ],
            "type": "histogram2d"
           }
          ],
          "histogram2dcontour": [
           {
            "colorbar": {
             "outlinewidth": 0,
             "ticks": ""
            },
            "colorscale": [
             [
              0,
              "#0d0887"
             ],
             [
              0.1111111111111111,
              "#46039f"
             ],
             [
              0.2222222222222222,
              "#7201a8"
             ],
             [
              0.3333333333333333,
              "#9c179e"
             ],
             [
              0.4444444444444444,
              "#bd3786"
             ],
             [
              0.5555555555555556,
              "#d8576b"
             ],
             [
              0.6666666666666666,
              "#ed7953"
             ],
             [
              0.7777777777777778,
              "#fb9f3a"
             ],
             [
              0.8888888888888888,
              "#fdca26"
             ],
             [
              1,
              "#f0f921"
             ]
            ],
            "type": "histogram2dcontour"
           }
          ],
          "mesh3d": [
           {
            "colorbar": {
             "outlinewidth": 0,
             "ticks": ""
            },
            "type": "mesh3d"
           }
          ],
          "parcoords": [
           {
            "line": {
             "colorbar": {
              "outlinewidth": 0,
              "ticks": ""
             }
            },
            "type": "parcoords"
           }
          ],
          "pie": [
           {
            "automargin": true,
            "type": "pie"
           }
          ],
          "scatter": [
           {
            "marker": {
             "line": {
              "color": "#283442"
             }
            },
            "type": "scatter"
           }
          ],
          "scatter3d": [
           {
            "line": {
             "colorbar": {
              "outlinewidth": 0,
              "ticks": ""
             }
            },
            "marker": {
             "colorbar": {
              "outlinewidth": 0,
              "ticks": ""
             }
            },
            "type": "scatter3d"
           }
          ],
          "scattercarpet": [
           {
            "marker": {
             "colorbar": {
              "outlinewidth": 0,
              "ticks": ""
             }
            },
            "type": "scattercarpet"
           }
          ],
          "scattergeo": [
           {
            "marker": {
             "colorbar": {
              "outlinewidth": 0,
              "ticks": ""
             }
            },
            "type": "scattergeo"
           }
          ],
          "scattergl": [
           {
            "marker": {
             "line": {
              "color": "#283442"
             }
            },
            "type": "scattergl"
           }
          ],
          "scattermapbox": [
           {
            "marker": {
             "colorbar": {
              "outlinewidth": 0,
              "ticks": ""
             }
            },
            "type": "scattermapbox"
           }
          ],
          "scatterpolar": [
           {
            "marker": {
             "colorbar": {
              "outlinewidth": 0,
              "ticks": ""
             }
            },
            "type": "scatterpolar"
           }
          ],
          "scatterpolargl": [
           {
            "marker": {
             "colorbar": {
              "outlinewidth": 0,
              "ticks": ""
             }
            },
            "type": "scatterpolargl"
           }
          ],
          "scatterternary": [
           {
            "marker": {
             "colorbar": {
              "outlinewidth": 0,
              "ticks": ""
             }
            },
            "type": "scatterternary"
           }
          ],
          "surface": [
           {
            "colorbar": {
             "outlinewidth": 0,
             "ticks": ""
            },
            "colorscale": [
             [
              0,
              "#0d0887"
             ],
             [
              0.1111111111111111,
              "#46039f"
             ],
             [
              0.2222222222222222,
              "#7201a8"
             ],
             [
              0.3333333333333333,
              "#9c179e"
             ],
             [
              0.4444444444444444,
              "#bd3786"
             ],
             [
              0.5555555555555556,
              "#d8576b"
             ],
             [
              0.6666666666666666,
              "#ed7953"
             ],
             [
              0.7777777777777778,
              "#fb9f3a"
             ],
             [
              0.8888888888888888,
              "#fdca26"
             ],
             [
              1,
              "#f0f921"
             ]
            ],
            "type": "surface"
           }
          ],
          "table": [
           {
            "cells": {
             "fill": {
              "color": "#506784"
             },
             "line": {
              "color": "rgb(17,17,17)"
             }
            },
            "header": {
             "fill": {
              "color": "#2a3f5f"
             },
             "line": {
              "color": "rgb(17,17,17)"
             }
            },
            "type": "table"
           }
          ]
         },
         "layout": {
          "annotationdefaults": {
           "arrowcolor": "#f2f5fa",
           "arrowhead": 0,
           "arrowwidth": 1
          },
          "autotypenumbers": "strict",
          "coloraxis": {
           "colorbar": {
            "outlinewidth": 0,
            "ticks": ""
           }
          },
          "colorscale": {
           "diverging": [
            [
             0,
             "#8e0152"
            ],
            [
             0.1,
             "#c51b7d"
            ],
            [
             0.2,
             "#de77ae"
            ],
            [
             0.3,
             "#f1b6da"
            ],
            [
             0.4,
             "#fde0ef"
            ],
            [
             0.5,
             "#f7f7f7"
            ],
            [
             0.6,
             "#e6f5d0"
            ],
            [
             0.7,
             "#b8e186"
            ],
            [
             0.8,
             "#7fbc41"
            ],
            [
             0.9,
             "#4d9221"
            ],
            [
             1,
             "#276419"
            ]
           ],
           "sequential": [
            [
             0,
             "#0d0887"
            ],
            [
             0.1111111111111111,
             "#46039f"
            ],
            [
             0.2222222222222222,
             "#7201a8"
            ],
            [
             0.3333333333333333,
             "#9c179e"
            ],
            [
             0.4444444444444444,
             "#bd3786"
            ],
            [
             0.5555555555555556,
             "#d8576b"
            ],
            [
             0.6666666666666666,
             "#ed7953"
            ],
            [
             0.7777777777777778,
             "#fb9f3a"
            ],
            [
             0.8888888888888888,
             "#fdca26"
            ],
            [
             1,
             "#f0f921"
            ]
           ],
           "sequentialminus": [
            [
             0,
             "#0d0887"
            ],
            [
             0.1111111111111111,
             "#46039f"
            ],
            [
             0.2222222222222222,
             "#7201a8"
            ],
            [
             0.3333333333333333,
             "#9c179e"
            ],
            [
             0.4444444444444444,
             "#bd3786"
            ],
            [
             0.5555555555555556,
             "#d8576b"
            ],
            [
             0.6666666666666666,
             "#ed7953"
            ],
            [
             0.7777777777777778,
             "#fb9f3a"
            ],
            [
             0.8888888888888888,
             "#fdca26"
            ],
            [
             1,
             "#f0f921"
            ]
           ]
          },
          "colorway": [
           "#636efa",
           "#EF553B",
           "#00cc96",
           "#ab63fa",
           "#FFA15A",
           "#19d3f3",
           "#FF6692",
           "#B6E880",
           "#FF97FF",
           "#FECB52"
          ],
          "font": {
           "color": "#f2f5fa"
          },
          "geo": {
           "bgcolor": "rgb(17,17,17)",
           "lakecolor": "rgb(17,17,17)",
           "landcolor": "rgb(17,17,17)",
           "showlakes": true,
           "showland": true,
           "subunitcolor": "#506784"
          },
          "hoverlabel": {
           "align": "left"
          },
          "hovermode": "closest",
          "mapbox": {
           "style": "dark"
          },
          "paper_bgcolor": "rgb(17,17,17)",
          "plot_bgcolor": "rgb(17,17,17)",
          "polar": {
           "angularaxis": {
            "gridcolor": "#506784",
            "linecolor": "#506784",
            "ticks": ""
           },
           "bgcolor": "rgb(17,17,17)",
           "radialaxis": {
            "gridcolor": "#506784",
            "linecolor": "#506784",
            "ticks": ""
           }
          },
          "scene": {
           "xaxis": {
            "backgroundcolor": "rgb(17,17,17)",
            "gridcolor": "#506784",
            "gridwidth": 2,
            "linecolor": "#506784",
            "showbackground": true,
            "ticks": "",
            "zerolinecolor": "#C8D4E3"
           },
           "yaxis": {
            "backgroundcolor": "rgb(17,17,17)",
            "gridcolor": "#506784",
            "gridwidth": 2,
            "linecolor": "#506784",
            "showbackground": true,
            "ticks": "",
            "zerolinecolor": "#C8D4E3"
           },
           "zaxis": {
            "backgroundcolor": "rgb(17,17,17)",
            "gridcolor": "#506784",
            "gridwidth": 2,
            "linecolor": "#506784",
            "showbackground": true,
            "ticks": "",
            "zerolinecolor": "#C8D4E3"
           }
          },
          "shapedefaults": {
           "line": {
            "color": "#f2f5fa"
           }
          },
          "sliderdefaults": {
           "bgcolor": "#C8D4E3",
           "bordercolor": "rgb(17,17,17)",
           "borderwidth": 1,
           "tickwidth": 0
          },
          "ternary": {
           "aaxis": {
            "gridcolor": "#506784",
            "linecolor": "#506784",
            "ticks": ""
           },
           "baxis": {
            "gridcolor": "#506784",
            "linecolor": "#506784",
            "ticks": ""
           },
           "bgcolor": "rgb(17,17,17)",
           "caxis": {
            "gridcolor": "#506784",
            "linecolor": "#506784",
            "ticks": ""
           }
          },
          "title": {
           "x": 0.05
          },
          "updatemenudefaults": {
           "bgcolor": "#506784",
           "borderwidth": 0
          },
          "xaxis": {
           "automargin": true,
           "gridcolor": "#283442",
           "linecolor": "#506784",
           "ticks": "",
           "title": {
            "standoff": 15
           },
           "zerolinecolor": "#283442",
           "zerolinewidth": 2
          },
          "yaxis": {
           "automargin": true,
           "gridcolor": "#283442",
           "linecolor": "#506784",
           "ticks": "",
           "title": {
            "standoff": 15
           },
           "zerolinecolor": "#283442",
           "zerolinewidth": 2
          }
         }
        },
        "title": {
         "text": "Pick up hour=2023-06-10 00:00:00, location_id=100"
        },
        "xaxis": {
         "anchor": "y",
         "domain": [
          0,
          1
         ],
         "title": {
          "text": "x"
         }
        },
        "yaxis": {
         "anchor": "x",
         "domain": [
          0,
          1
         ],
         "title": {
          "text": "y"
         }
        }
       }
      }
     },
     "metadata": {},
     "output_type": "display_data"
    }
   ],
   "source": [
    "from src.plot import plot_one_sample\n",
    "\n",
    "plot_one_sample(\n",
    "    example_id=2979,\n",
    "    features=X_test,\n",
    "    targets=y_test,\n",
    "    predictions=pd.Series(predictions)\n",
    ")"
   ]
  },
  {
   "cell_type": "code",
   "execution_count": 17,
   "metadata": {},
   "outputs": [
    {
     "data": {
      "application/vnd.plotly.v1+json": {
       "config": {
        "plotlyServerURL": "https://plot.ly"
       },
       "data": [
        {
         "hovertemplate": "x=%{x}<br>y=%{y}<extra></extra>",
         "legendgroup": "",
         "line": {
          "color": "#636efa",
          "dash": "solid"
         },
         "marker": {
          "symbol": "circle"
         },
         "mode": "markers+lines",
         "name": "",
         "orientation": "v",
         "showlegend": false,
         "type": "scatter",
         "x": [
          "2023-05-23T00:00:00",
          "2023-05-23T01:00:00",
          "2023-05-23T02:00:00",
          "2023-05-23T03:00:00",
          "2023-05-23T04:00:00",
          "2023-05-23T05:00:00",
          "2023-05-23T06:00:00",
          "2023-05-23T07:00:00",
          "2023-05-23T08:00:00",
          "2023-05-23T09:00:00",
          "2023-05-23T10:00:00",
          "2023-05-23T11:00:00",
          "2023-05-23T12:00:00",
          "2023-05-23T13:00:00",
          "2023-05-23T14:00:00",
          "2023-05-23T15:00:00",
          "2023-05-23T16:00:00",
          "2023-05-23T17:00:00",
          "2023-05-23T18:00:00",
          "2023-05-23T19:00:00",
          "2023-05-23T20:00:00",
          "2023-05-23T21:00:00",
          "2023-05-23T22:00:00",
          "2023-05-23T23:00:00",
          "2023-05-24T00:00:00",
          "2023-05-24T01:00:00",
          "2023-05-24T02:00:00",
          "2023-05-24T03:00:00",
          "2023-05-24T04:00:00",
          "2023-05-24T05:00:00",
          "2023-05-24T06:00:00",
          "2023-05-24T07:00:00",
          "2023-05-24T08:00:00",
          "2023-05-24T09:00:00",
          "2023-05-24T10:00:00",
          "2023-05-24T11:00:00",
          "2023-05-24T12:00:00",
          "2023-05-24T13:00:00",
          "2023-05-24T14:00:00",
          "2023-05-24T15:00:00",
          "2023-05-24T16:00:00",
          "2023-05-24T17:00:00",
          "2023-05-24T18:00:00",
          "2023-05-24T19:00:00",
          "2023-05-24T20:00:00",
          "2023-05-24T21:00:00",
          "2023-05-24T22:00:00",
          "2023-05-24T23:00:00",
          "2023-05-25T00:00:00",
          "2023-05-25T01:00:00",
          "2023-05-25T02:00:00",
          "2023-05-25T03:00:00",
          "2023-05-25T04:00:00",
          "2023-05-25T05:00:00",
          "2023-05-25T06:00:00",
          "2023-05-25T07:00:00",
          "2023-05-25T08:00:00",
          "2023-05-25T09:00:00",
          "2023-05-25T10:00:00",
          "2023-05-25T11:00:00",
          "2023-05-25T12:00:00",
          "2023-05-25T13:00:00",
          "2023-05-25T14:00:00",
          "2023-05-25T15:00:00",
          "2023-05-25T16:00:00",
          "2023-05-25T17:00:00",
          "2023-05-25T18:00:00",
          "2023-05-25T19:00:00",
          "2023-05-25T20:00:00",
          "2023-05-25T21:00:00",
          "2023-05-25T22:00:00",
          "2023-05-25T23:00:00",
          "2023-05-26T00:00:00",
          "2023-05-26T01:00:00",
          "2023-05-26T02:00:00",
          "2023-05-26T03:00:00",
          "2023-05-26T04:00:00",
          "2023-05-26T05:00:00",
          "2023-05-26T06:00:00",
          "2023-05-26T07:00:00",
          "2023-05-26T08:00:00",
          "2023-05-26T09:00:00",
          "2023-05-26T10:00:00",
          "2023-05-26T11:00:00",
          "2023-05-26T12:00:00",
          "2023-05-26T13:00:00",
          "2023-05-26T14:00:00",
          "2023-05-26T15:00:00",
          "2023-05-26T16:00:00",
          "2023-05-26T17:00:00",
          "2023-05-26T18:00:00",
          "2023-05-26T19:00:00",
          "2023-05-26T20:00:00",
          "2023-05-26T21:00:00",
          "2023-05-26T22:00:00",
          "2023-05-26T23:00:00",
          "2023-05-27T00:00:00",
          "2023-05-27T01:00:00",
          "2023-05-27T02:00:00",
          "2023-05-27T03:00:00",
          "2023-05-27T04:00:00",
          "2023-05-27T05:00:00",
          "2023-05-27T06:00:00",
          "2023-05-27T07:00:00",
          "2023-05-27T08:00:00",
          "2023-05-27T09:00:00",
          "2023-05-27T10:00:00",
          "2023-05-27T11:00:00",
          "2023-05-27T12:00:00",
          "2023-05-27T13:00:00",
          "2023-05-27T14:00:00",
          "2023-05-27T15:00:00",
          "2023-05-27T16:00:00",
          "2023-05-27T17:00:00",
          "2023-05-27T18:00:00",
          "2023-05-27T19:00:00",
          "2023-05-27T20:00:00",
          "2023-05-27T21:00:00",
          "2023-05-27T22:00:00",
          "2023-05-27T23:00:00",
          "2023-05-28T00:00:00",
          "2023-05-28T01:00:00",
          "2023-05-28T02:00:00",
          "2023-05-28T03:00:00",
          "2023-05-28T04:00:00",
          "2023-05-28T05:00:00",
          "2023-05-28T06:00:00",
          "2023-05-28T07:00:00",
          "2023-05-28T08:00:00",
          "2023-05-28T09:00:00",
          "2023-05-28T10:00:00",
          "2023-05-28T11:00:00",
          "2023-05-28T12:00:00",
          "2023-05-28T13:00:00",
          "2023-05-28T14:00:00",
          "2023-05-28T15:00:00",
          "2023-05-28T16:00:00",
          "2023-05-28T17:00:00",
          "2023-05-28T18:00:00",
          "2023-05-28T19:00:00",
          "2023-05-28T20:00:00",
          "2023-05-28T21:00:00",
          "2023-05-28T22:00:00",
          "2023-05-28T23:00:00",
          "2023-05-29T00:00:00",
          "2023-05-29T01:00:00",
          "2023-05-29T02:00:00",
          "2023-05-29T03:00:00",
          "2023-05-29T04:00:00",
          "2023-05-29T05:00:00",
          "2023-05-29T06:00:00",
          "2023-05-29T07:00:00",
          "2023-05-29T08:00:00",
          "2023-05-29T09:00:00",
          "2023-05-29T10:00:00",
          "2023-05-29T11:00:00",
          "2023-05-29T12:00:00",
          "2023-05-29T13:00:00",
          "2023-05-29T14:00:00",
          "2023-05-29T15:00:00",
          "2023-05-29T16:00:00",
          "2023-05-29T17:00:00",
          "2023-05-29T18:00:00",
          "2023-05-29T19:00:00",
          "2023-05-29T20:00:00",
          "2023-05-29T21:00:00",
          "2023-05-29T22:00:00",
          "2023-05-29T23:00:00",
          "2023-05-30T00:00:00",
          "2023-05-30T01:00:00",
          "2023-05-30T02:00:00",
          "2023-05-30T03:00:00",
          "2023-05-30T04:00:00",
          "2023-05-30T05:00:00",
          "2023-05-30T06:00:00",
          "2023-05-30T07:00:00",
          "2023-05-30T08:00:00",
          "2023-05-30T09:00:00",
          "2023-05-30T10:00:00",
          "2023-05-30T11:00:00",
          "2023-05-30T12:00:00",
          "2023-05-30T13:00:00",
          "2023-05-30T14:00:00",
          "2023-05-30T15:00:00",
          "2023-05-30T16:00:00",
          "2023-05-30T17:00:00",
          "2023-05-30T18:00:00",
          "2023-05-30T19:00:00",
          "2023-05-30T20:00:00",
          "2023-05-30T21:00:00",
          "2023-05-30T22:00:00",
          "2023-05-30T23:00:00",
          "2023-05-31T00:00:00",
          "2023-05-31T01:00:00",
          "2023-05-31T02:00:00",
          "2023-05-31T03:00:00",
          "2023-05-31T04:00:00",
          "2023-05-31T05:00:00",
          "2023-05-31T06:00:00",
          "2023-05-31T07:00:00",
          "2023-05-31T08:00:00",
          "2023-05-31T09:00:00",
          "2023-05-31T10:00:00",
          "2023-05-31T11:00:00",
          "2023-05-31T12:00:00",
          "2023-05-31T13:00:00",
          "2023-05-31T14:00:00",
          "2023-05-31T15:00:00",
          "2023-05-31T16:00:00",
          "2023-05-31T17:00:00",
          "2023-05-31T18:00:00",
          "2023-05-31T19:00:00",
          "2023-05-31T20:00:00",
          "2023-05-31T21:00:00",
          "2023-05-31T22:00:00",
          "2023-05-31T23:00:00",
          "2023-06-01T00:00:00",
          "2023-06-01T01:00:00",
          "2023-06-01T02:00:00",
          "2023-06-01T03:00:00",
          "2023-06-01T04:00:00",
          "2023-06-01T05:00:00",
          "2023-06-01T06:00:00",
          "2023-06-01T07:00:00",
          "2023-06-01T08:00:00",
          "2023-06-01T09:00:00",
          "2023-06-01T10:00:00",
          "2023-06-01T11:00:00",
          "2023-06-01T12:00:00",
          "2023-06-01T13:00:00",
          "2023-06-01T14:00:00",
          "2023-06-01T15:00:00",
          "2023-06-01T16:00:00",
          "2023-06-01T17:00:00",
          "2023-06-01T18:00:00",
          "2023-06-01T19:00:00",
          "2023-06-01T20:00:00",
          "2023-06-01T21:00:00",
          "2023-06-01T22:00:00",
          "2023-06-01T23:00:00",
          "2023-06-02T00:00:00",
          "2023-06-02T01:00:00",
          "2023-06-02T02:00:00",
          "2023-06-02T03:00:00",
          "2023-06-02T04:00:00",
          "2023-06-02T05:00:00",
          "2023-06-02T06:00:00",
          "2023-06-02T07:00:00",
          "2023-06-02T08:00:00",
          "2023-06-02T09:00:00",
          "2023-06-02T10:00:00",
          "2023-06-02T11:00:00",
          "2023-06-02T12:00:00",
          "2023-06-02T13:00:00",
          "2023-06-02T14:00:00",
          "2023-06-02T15:00:00",
          "2023-06-02T16:00:00",
          "2023-06-02T17:00:00",
          "2023-06-02T18:00:00",
          "2023-06-02T19:00:00",
          "2023-06-02T20:00:00",
          "2023-06-02T21:00:00",
          "2023-06-02T22:00:00",
          "2023-06-02T23:00:00",
          "2023-06-03T00:00:00",
          "2023-06-03T01:00:00",
          "2023-06-03T02:00:00",
          "2023-06-03T03:00:00",
          "2023-06-03T04:00:00",
          "2023-06-03T05:00:00",
          "2023-06-03T06:00:00",
          "2023-06-03T07:00:00",
          "2023-06-03T08:00:00",
          "2023-06-03T09:00:00",
          "2023-06-03T10:00:00",
          "2023-06-03T11:00:00",
          "2023-06-03T12:00:00",
          "2023-06-03T13:00:00",
          "2023-06-03T14:00:00",
          "2023-06-03T15:00:00",
          "2023-06-03T16:00:00",
          "2023-06-03T17:00:00",
          "2023-06-03T18:00:00",
          "2023-06-03T19:00:00",
          "2023-06-03T20:00:00",
          "2023-06-03T21:00:00",
          "2023-06-03T22:00:00",
          "2023-06-03T23:00:00",
          "2023-06-04T00:00:00",
          "2023-06-04T01:00:00",
          "2023-06-04T02:00:00",
          "2023-06-04T03:00:00",
          "2023-06-04T04:00:00",
          "2023-06-04T05:00:00",
          "2023-06-04T06:00:00",
          "2023-06-04T07:00:00",
          "2023-06-04T08:00:00",
          "2023-06-04T09:00:00",
          "2023-06-04T10:00:00",
          "2023-06-04T11:00:00",
          "2023-06-04T12:00:00",
          "2023-06-04T13:00:00",
          "2023-06-04T14:00:00",
          "2023-06-04T15:00:00",
          "2023-06-04T16:00:00",
          "2023-06-04T17:00:00",
          "2023-06-04T18:00:00",
          "2023-06-04T19:00:00",
          "2023-06-04T20:00:00",
          "2023-06-04T21:00:00",
          "2023-06-04T22:00:00",
          "2023-06-04T23:00:00",
          "2023-06-05T00:00:00",
          "2023-06-05T01:00:00",
          "2023-06-05T02:00:00",
          "2023-06-05T03:00:00",
          "2023-06-05T04:00:00",
          "2023-06-05T05:00:00",
          "2023-06-05T06:00:00",
          "2023-06-05T07:00:00",
          "2023-06-05T08:00:00",
          "2023-06-05T09:00:00",
          "2023-06-05T10:00:00",
          "2023-06-05T11:00:00",
          "2023-06-05T12:00:00",
          "2023-06-05T13:00:00",
          "2023-06-05T14:00:00",
          "2023-06-05T15:00:00",
          "2023-06-05T16:00:00",
          "2023-06-05T17:00:00",
          "2023-06-05T18:00:00",
          "2023-06-05T19:00:00",
          "2023-06-05T20:00:00",
          "2023-06-05T21:00:00",
          "2023-06-05T22:00:00",
          "2023-06-05T23:00:00",
          "2023-06-06T00:00:00",
          "2023-06-06T01:00:00",
          "2023-06-06T02:00:00",
          "2023-06-06T03:00:00",
          "2023-06-06T04:00:00",
          "2023-06-06T05:00:00",
          "2023-06-06T06:00:00",
          "2023-06-06T07:00:00",
          "2023-06-06T08:00:00",
          "2023-06-06T09:00:00",
          "2023-06-06T10:00:00",
          "2023-06-06T11:00:00",
          "2023-06-06T12:00:00",
          "2023-06-06T13:00:00",
          "2023-06-06T14:00:00",
          "2023-06-06T15:00:00",
          "2023-06-06T16:00:00",
          "2023-06-06T17:00:00",
          "2023-06-06T18:00:00",
          "2023-06-06T19:00:00",
          "2023-06-06T20:00:00",
          "2023-06-06T21:00:00",
          "2023-06-06T22:00:00",
          "2023-06-06T23:00:00",
          "2023-06-07T00:00:00",
          "2023-06-07T01:00:00",
          "2023-06-07T02:00:00",
          "2023-06-07T03:00:00",
          "2023-06-07T04:00:00",
          "2023-06-07T05:00:00",
          "2023-06-07T06:00:00",
          "2023-06-07T07:00:00",
          "2023-06-07T08:00:00",
          "2023-06-07T09:00:00",
          "2023-06-07T10:00:00",
          "2023-06-07T11:00:00",
          "2023-06-07T12:00:00",
          "2023-06-07T13:00:00",
          "2023-06-07T14:00:00",
          "2023-06-07T15:00:00",
          "2023-06-07T16:00:00",
          "2023-06-07T17:00:00",
          "2023-06-07T18:00:00",
          "2023-06-07T19:00:00",
          "2023-06-07T20:00:00",
          "2023-06-07T21:00:00",
          "2023-06-07T22:00:00",
          "2023-06-07T23:00:00",
          "2023-06-08T00:00:00",
          "2023-06-08T01:00:00",
          "2023-06-08T02:00:00",
          "2023-06-08T03:00:00",
          "2023-06-08T04:00:00",
          "2023-06-08T05:00:00",
          "2023-06-08T06:00:00",
          "2023-06-08T07:00:00",
          "2023-06-08T08:00:00",
          "2023-06-08T09:00:00",
          "2023-06-08T10:00:00",
          "2023-06-08T11:00:00",
          "2023-06-08T12:00:00",
          "2023-06-08T13:00:00",
          "2023-06-08T14:00:00",
          "2023-06-08T15:00:00",
          "2023-06-08T16:00:00",
          "2023-06-08T17:00:00",
          "2023-06-08T18:00:00",
          "2023-06-08T19:00:00",
          "2023-06-08T20:00:00",
          "2023-06-08T21:00:00",
          "2023-06-08T22:00:00",
          "2023-06-08T23:00:00",
          "2023-06-09T00:00:00",
          "2023-06-09T01:00:00",
          "2023-06-09T02:00:00",
          "2023-06-09T03:00:00",
          "2023-06-09T04:00:00",
          "2023-06-09T05:00:00",
          "2023-06-09T06:00:00",
          "2023-06-09T07:00:00",
          "2023-06-09T08:00:00",
          "2023-06-09T09:00:00",
          "2023-06-09T10:00:00",
          "2023-06-09T11:00:00",
          "2023-06-09T12:00:00",
          "2023-06-09T13:00:00",
          "2023-06-09T14:00:00",
          "2023-06-09T15:00:00",
          "2023-06-09T16:00:00",
          "2023-06-09T17:00:00",
          "2023-06-09T18:00:00",
          "2023-06-09T19:00:00",
          "2023-06-09T20:00:00",
          "2023-06-09T21:00:00",
          "2023-06-09T22:00:00",
          "2023-06-09T23:00:00",
          "2023-06-10T00:00:00",
          "2023-06-10T01:00:00",
          "2023-06-10T02:00:00",
          "2023-06-10T03:00:00",
          "2023-06-10T04:00:00",
          "2023-06-10T05:00:00",
          "2023-06-10T06:00:00",
          "2023-06-10T07:00:00",
          "2023-06-10T08:00:00",
          "2023-06-10T09:00:00",
          "2023-06-10T10:00:00",
          "2023-06-10T11:00:00",
          "2023-06-10T12:00:00",
          "2023-06-10T13:00:00",
          "2023-06-10T14:00:00",
          "2023-06-10T15:00:00",
          "2023-06-10T16:00:00",
          "2023-06-10T17:00:00",
          "2023-06-10T18:00:00",
          "2023-06-10T19:00:00",
          "2023-06-10T20:00:00",
          "2023-06-10T21:00:00",
          "2023-06-10T22:00:00",
          "2023-06-10T23:00:00",
          "2023-06-11T00:00:00",
          "2023-06-11T01:00:00",
          "2023-06-11T02:00:00",
          "2023-06-11T03:00:00",
          "2023-06-11T04:00:00",
          "2023-06-11T05:00:00",
          "2023-06-11T06:00:00",
          "2023-06-11T07:00:00",
          "2023-06-11T08:00:00",
          "2023-06-11T09:00:00",
          "2023-06-11T10:00:00",
          "2023-06-11T11:00:00",
          "2023-06-11T12:00:00",
          "2023-06-11T13:00:00",
          "2023-06-11T14:00:00",
          "2023-06-11T15:00:00",
          "2023-06-11T16:00:00",
          "2023-06-11T17:00:00",
          "2023-06-11T18:00:00",
          "2023-06-11T19:00:00",
          "2023-06-11T20:00:00",
          "2023-06-11T21:00:00",
          "2023-06-11T22:00:00",
          "2023-06-11T23:00:00",
          "2023-06-12T00:00:00",
          "2023-06-12T01:00:00",
          "2023-06-12T02:00:00",
          "2023-06-12T03:00:00",
          "2023-06-12T04:00:00",
          "2023-06-12T05:00:00",
          "2023-06-12T06:00:00",
          "2023-06-12T07:00:00",
          "2023-06-12T08:00:00",
          "2023-06-12T09:00:00",
          "2023-06-12T10:00:00",
          "2023-06-12T11:00:00",
          "2023-06-12T12:00:00",
          "2023-06-12T13:00:00",
          "2023-06-12T14:00:00",
          "2023-06-12T15:00:00",
          "2023-06-12T16:00:00",
          "2023-06-12T17:00:00",
          "2023-06-12T18:00:00",
          "2023-06-12T19:00:00",
          "2023-06-12T20:00:00",
          "2023-06-12T21:00:00",
          "2023-06-12T22:00:00",
          "2023-06-12T23:00:00",
          "2023-06-13T00:00:00",
          "2023-06-13T01:00:00",
          "2023-06-13T02:00:00",
          "2023-06-13T03:00:00",
          "2023-06-13T04:00:00",
          "2023-06-13T05:00:00",
          "2023-06-13T06:00:00",
          "2023-06-13T07:00:00",
          "2023-06-13T08:00:00",
          "2023-06-13T09:00:00",
          "2023-06-13T10:00:00",
          "2023-06-13T11:00:00",
          "2023-06-13T12:00:00",
          "2023-06-13T13:00:00",
          "2023-06-13T14:00:00",
          "2023-06-13T15:00:00",
          "2023-06-13T16:00:00",
          "2023-06-13T17:00:00",
          "2023-06-13T18:00:00",
          "2023-06-13T19:00:00",
          "2023-06-13T20:00:00",
          "2023-06-13T21:00:00",
          "2023-06-13T22:00:00",
          "2023-06-13T23:00:00",
          "2023-06-14T00:00:00",
          "2023-06-14T01:00:00",
          "2023-06-14T02:00:00",
          "2023-06-14T03:00:00",
          "2023-06-14T04:00:00",
          "2023-06-14T05:00:00",
          "2023-06-14T06:00:00",
          "2023-06-14T07:00:00",
          "2023-06-14T08:00:00",
          "2023-06-14T09:00:00",
          "2023-06-14T10:00:00",
          "2023-06-14T11:00:00",
          "2023-06-14T12:00:00",
          "2023-06-14T13:00:00",
          "2023-06-14T14:00:00",
          "2023-06-14T15:00:00",
          "2023-06-14T16:00:00",
          "2023-06-14T17:00:00",
          "2023-06-14T18:00:00",
          "2023-06-14T19:00:00",
          "2023-06-14T20:00:00",
          "2023-06-14T21:00:00",
          "2023-06-14T22:00:00",
          "2023-06-14T23:00:00",
          "2023-06-15T00:00:00",
          "2023-06-15T01:00:00",
          "2023-06-15T02:00:00",
          "2023-06-15T03:00:00",
          "2023-06-15T04:00:00",
          "2023-06-15T05:00:00",
          "2023-06-15T06:00:00",
          "2023-06-15T07:00:00",
          "2023-06-15T08:00:00",
          "2023-06-15T09:00:00",
          "2023-06-15T10:00:00",
          "2023-06-15T11:00:00",
          "2023-06-15T12:00:00",
          "2023-06-15T13:00:00",
          "2023-06-15T14:00:00",
          "2023-06-15T15:00:00",
          "2023-06-15T16:00:00",
          "2023-06-15T17:00:00",
          "2023-06-15T18:00:00",
          "2023-06-15T19:00:00",
          "2023-06-15T20:00:00",
          "2023-06-15T21:00:00",
          "2023-06-15T22:00:00",
          "2023-06-15T23:00:00",
          "2023-06-16T00:00:00",
          "2023-06-16T01:00:00",
          "2023-06-16T02:00:00",
          "2023-06-16T03:00:00",
          "2023-06-16T04:00:00",
          "2023-06-16T05:00:00",
          "2023-06-16T06:00:00",
          "2023-06-16T07:00:00",
          "2023-06-16T08:00:00",
          "2023-06-16T09:00:00",
          "2023-06-16T10:00:00",
          "2023-06-16T11:00:00",
          "2023-06-16T12:00:00",
          "2023-06-16T13:00:00",
          "2023-06-16T14:00:00",
          "2023-06-16T15:00:00",
          "2023-06-16T16:00:00",
          "2023-06-16T17:00:00",
          "2023-06-16T18:00:00",
          "2023-06-16T19:00:00",
          "2023-06-16T20:00:00",
          "2023-06-16T21:00:00",
          "2023-06-16T22:00:00",
          "2023-06-16T23:00:00",
          "2023-06-17T00:00:00",
          "2023-06-17T01:00:00",
          "2023-06-17T02:00:00",
          "2023-06-17T03:00:00",
          "2023-06-17T04:00:00",
          "2023-06-17T05:00:00",
          "2023-06-17T06:00:00",
          "2023-06-17T07:00:00",
          "2023-06-17T08:00:00",
          "2023-06-17T09:00:00",
          "2023-06-17T10:00:00",
          "2023-06-17T11:00:00",
          "2023-06-17T12:00:00",
          "2023-06-17T13:00:00",
          "2023-06-17T14:00:00",
          "2023-06-17T15:00:00",
          "2023-06-17T16:00:00",
          "2023-06-17T17:00:00",
          "2023-06-17T18:00:00",
          "2023-06-17T19:00:00",
          "2023-06-17T20:00:00",
          "2023-06-17T21:00:00",
          "2023-06-17T22:00:00",
          "2023-06-17T23:00:00",
          "2023-06-18T00:00:00",
          "2023-06-18T01:00:00",
          "2023-06-18T02:00:00",
          "2023-06-18T03:00:00",
          "2023-06-18T04:00:00",
          "2023-06-18T05:00:00",
          "2023-06-18T06:00:00",
          "2023-06-18T07:00:00",
          "2023-06-18T08:00:00",
          "2023-06-18T09:00:00",
          "2023-06-18T10:00:00",
          "2023-06-18T11:00:00",
          "2023-06-18T12:00:00",
          "2023-06-18T13:00:00",
          "2023-06-18T14:00:00",
          "2023-06-18T15:00:00",
          "2023-06-18T16:00:00",
          "2023-06-18T17:00:00",
          "2023-06-18T18:00:00",
          "2023-06-18T19:00:00",
          "2023-06-18T20:00:00",
          "2023-06-18T21:00:00",
          "2023-06-18T22:00:00",
          "2023-06-18T23:00:00",
          "2023-06-19T00:00:00",
          "2023-06-19T01:00:00",
          "2023-06-19T02:00:00",
          "2023-06-19T03:00:00",
          "2023-06-19T04:00:00",
          "2023-06-19T05:00:00",
          "2023-06-19T06:00:00",
          "2023-06-19T07:00:00",
          "2023-06-19T08:00:00",
          "2023-06-19T09:00:00",
          "2023-06-19T10:00:00",
          "2023-06-19T11:00:00",
          "2023-06-19T12:00:00",
          "2023-06-19T13:00:00",
          "2023-06-19T14:00:00",
          "2023-06-19T15:00:00",
          "2023-06-19T16:00:00",
          "2023-06-19T17:00:00",
          "2023-06-19T18:00:00",
          "2023-06-19T19:00:00",
          "2023-06-19T20:00:00",
          "2023-06-19T21:00:00",
          "2023-06-19T22:00:00",
          "2023-06-19T23:00:00",
          "2023-06-20T00:00:00"
         ],
         "xaxis": "x",
         "y": [
          0,
          0,
          0,
          0,
          0,
          0,
          0,
          1,
          0,
          2,
          0,
          0,
          0,
          0,
          0,
          0,
          0,
          0,
          0,
          0,
          0,
          0,
          0,
          0,
          0,
          0,
          0,
          0,
          2,
          0,
          0,
          2,
          0,
          0,
          1,
          0,
          0,
          0,
          1,
          0,
          0,
          0,
          0,
          0,
          1,
          0,
          1,
          0,
          0,
          0,
          0,
          0,
          0,
          0,
          0,
          0,
          2,
          0,
          1,
          0,
          1,
          0,
          0,
          1,
          0,
          0,
          0,
          1,
          2,
          2,
          0,
          0,
          0,
          0,
          0,
          0,
          0,
          0,
          0,
          0,
          0,
          0,
          0,
          0,
          0,
          0,
          0,
          0,
          0,
          0,
          1,
          0,
          0,
          0,
          0,
          0,
          1,
          0,
          0,
          0,
          0,
          0,
          2,
          0,
          0,
          0,
          0,
          0,
          0,
          0,
          0,
          0,
          0,
          0,
          0,
          0,
          0,
          0,
          0,
          0,
          0,
          0,
          0,
          0,
          0,
          0,
          0,
          0,
          0,
          0,
          0,
          0,
          1,
          0,
          1,
          0,
          0,
          0,
          0,
          0,
          1,
          0,
          0,
          0,
          1,
          0,
          0,
          0,
          0,
          0,
          1,
          0,
          0,
          0,
          0,
          0,
          0,
          0,
          0,
          0,
          0,
          0,
          0,
          0,
          1,
          0,
          0,
          0,
          0,
          1,
          0,
          0,
          0,
          0,
          0,
          0,
          0,
          1,
          3,
          0,
          0,
          0,
          1,
          0,
          0,
          0,
          0,
          0,
          0,
          0,
          0,
          0,
          0,
          0,
          0,
          0,
          1,
          0,
          0,
          0,
          0,
          0,
          0,
          0,
          0,
          0,
          1,
          0,
          0,
          0,
          0,
          0,
          1,
          0,
          0,
          0,
          0,
          0,
          0,
          0,
          0,
          0,
          0,
          1,
          0,
          2,
          0,
          0,
          0,
          0,
          0,
          0,
          1,
          0,
          0,
          0,
          0,
          0,
          0,
          1,
          0,
          0,
          0,
          0,
          0,
          0,
          0,
          0,
          0,
          0,
          0,
          0,
          0,
          0,
          0,
          0,
          1,
          0,
          0,
          0,
          0,
          0,
          0,
          1,
          0,
          0,
          0,
          0,
          0,
          0,
          0,
          0,
          0,
          0,
          0,
          0,
          0,
          0,
          0,
          0,
          0,
          0,
          0,
          0,
          0,
          0,
          0,
          0,
          0,
          0,
          0,
          0,
          0,
          0,
          0,
          0,
          0,
          1,
          1,
          0,
          0,
          0,
          0,
          0,
          0,
          1,
          0,
          1,
          1,
          1,
          0,
          0,
          2,
          0,
          2,
          0,
          0,
          0,
          1,
          1,
          0,
          0,
          1,
          0,
          1,
          0,
          0,
          0,
          0,
          0,
          0,
          1,
          0,
          0,
          0,
          2,
          0,
          0,
          0,
          0,
          0,
          0,
          1,
          2,
          0,
          2,
          0,
          0,
          1,
          0,
          0,
          0,
          0,
          0,
          0,
          0,
          0,
          0,
          0,
          0,
          0,
          0,
          0,
          0,
          0,
          0,
          0,
          0,
          0,
          1,
          0,
          0,
          0,
          0,
          0,
          0,
          0,
          0,
          0,
          1,
          0,
          0,
          1,
          0,
          0,
          0,
          0,
          0,
          1,
          0,
          1,
          1,
          0,
          0,
          0,
          0,
          1,
          0,
          0,
          0,
          0,
          0,
          0,
          1,
          0,
          0,
          0,
          0,
          0,
          1,
          0,
          0,
          0,
          0,
          0,
          1,
          0,
          0,
          0,
          0,
          1,
          1,
          0,
          0,
          1,
          0,
          0,
          0,
          0,
          0,
          0,
          0,
          1,
          0,
          0,
          0,
          0,
          1,
          0,
          0,
          0,
          0,
          0,
          0,
          0,
          0,
          0,
          0,
          1,
          0,
          0,
          1,
          1,
          0,
          0,
          0,
          1,
          0,
          0,
          0,
          0,
          0,
          0,
          0,
          0,
          1,
          0,
          0,
          1,
          0,
          0,
          0,
          0,
          0,
          0,
          0,
          0,
          0,
          1,
          2,
          0,
          0,
          0,
          0,
          0,
          0,
          0,
          0,
          0,
          1,
          0,
          0,
          0,
          0,
          0,
          0,
          0,
          0,
          0,
          0,
          0,
          0,
          0,
          0,
          0,
          1,
          1,
          0,
          0,
          0,
          0,
          0,
          0,
          0,
          0,
          0,
          0,
          1,
          0,
          0,
          0,
          0,
          0,
          0,
          0,
          0,
          0,
          0,
          0,
          0,
          1,
          0,
          0,
          0,
          0,
          0,
          1,
          0,
          0,
          0,
          0,
          0,
          0,
          0,
          1,
          0,
          0,
          0,
          0,
          0,
          0,
          3,
          0,
          2,
          0,
          0,
          0,
          0,
          0,
          0,
          0,
          0,
          0,
          0,
          0,
          0,
          0,
          0,
          0,
          0,
          0,
          0,
          0,
          0,
          0,
          0,
          0,
          0,
          0,
          0,
          0,
          0,
          0,
          0,
          0,
          0,
          0,
          0,
          1,
          0,
          0,
          0,
          0,
          0,
          0,
          0,
          0,
          0,
          0,
          0,
          0,
          2,
          1,
          0,
          0,
          0,
          1,
          0,
          0,
          0,
          0,
          0,
          0,
          0,
          0,
          0,
          0,
          0,
          0,
          1,
          0,
          1,
          0,
          1,
          1,
          0,
          0,
          0,
          0,
          0,
          0,
          0,
          0,
          0,
          0,
          2,
          0,
          0,
          0,
          0,
          0,
          1,
          0,
          0,
          1,
          0,
          1,
          0,
          0,
          0,
          0,
          0,
          1,
          0,
          0,
          0,
          0,
          1,
          0,
          0,
          0,
          0,
          0,
          0,
          0,
          0,
          0,
          0,
          0,
          1,
          1,
          0,
          0
         ],
         "yaxis": "y"
        },
        {
         "line": {
          "color": "green"
         },
         "marker": {
          "size": 10
         },
         "mode": "markers",
         "name": "actual value",
         "type": "scatter",
         "x": [
          "2023-06-20T00:00:00"
         ],
         "y": [
          0
         ]
        },
        {
         "line": {
          "color": "red"
         },
         "marker": {
          "size": 15,
          "symbol": "x"
         },
         "mode": "markers",
         "name": "prediction",
         "type": "scatter",
         "x": [
          "2023-06-20T00:00:00"
         ],
         "y": [
          0.14829608024197533
         ]
        }
       ],
       "layout": {
        "legend": {
         "tracegroupgap": 0
        },
        "template": {
         "data": {
          "bar": [
           {
            "error_x": {
             "color": "#f2f5fa"
            },
            "error_y": {
             "color": "#f2f5fa"
            },
            "marker": {
             "line": {
              "color": "rgb(17,17,17)",
              "width": 0.5
             },
             "pattern": {
              "fillmode": "overlay",
              "size": 10,
              "solidity": 0.2
             }
            },
            "type": "bar"
           }
          ],
          "barpolar": [
           {
            "marker": {
             "line": {
              "color": "rgb(17,17,17)",
              "width": 0.5
             },
             "pattern": {
              "fillmode": "overlay",
              "size": 10,
              "solidity": 0.2
             }
            },
            "type": "barpolar"
           }
          ],
          "carpet": [
           {
            "aaxis": {
             "endlinecolor": "#A2B1C6",
             "gridcolor": "#506784",
             "linecolor": "#506784",
             "minorgridcolor": "#506784",
             "startlinecolor": "#A2B1C6"
            },
            "baxis": {
             "endlinecolor": "#A2B1C6",
             "gridcolor": "#506784",
             "linecolor": "#506784",
             "minorgridcolor": "#506784",
             "startlinecolor": "#A2B1C6"
            },
            "type": "carpet"
           }
          ],
          "choropleth": [
           {
            "colorbar": {
             "outlinewidth": 0,
             "ticks": ""
            },
            "type": "choropleth"
           }
          ],
          "contour": [
           {
            "colorbar": {
             "outlinewidth": 0,
             "ticks": ""
            },
            "colorscale": [
             [
              0,
              "#0d0887"
             ],
             [
              0.1111111111111111,
              "#46039f"
             ],
             [
              0.2222222222222222,
              "#7201a8"
             ],
             [
              0.3333333333333333,
              "#9c179e"
             ],
             [
              0.4444444444444444,
              "#bd3786"
             ],
             [
              0.5555555555555556,
              "#d8576b"
             ],
             [
              0.6666666666666666,
              "#ed7953"
             ],
             [
              0.7777777777777778,
              "#fb9f3a"
             ],
             [
              0.8888888888888888,
              "#fdca26"
             ],
             [
              1,
              "#f0f921"
             ]
            ],
            "type": "contour"
           }
          ],
          "contourcarpet": [
           {
            "colorbar": {
             "outlinewidth": 0,
             "ticks": ""
            },
            "type": "contourcarpet"
           }
          ],
          "heatmap": [
           {
            "colorbar": {
             "outlinewidth": 0,
             "ticks": ""
            },
            "colorscale": [
             [
              0,
              "#0d0887"
             ],
             [
              0.1111111111111111,
              "#46039f"
             ],
             [
              0.2222222222222222,
              "#7201a8"
             ],
             [
              0.3333333333333333,
              "#9c179e"
             ],
             [
              0.4444444444444444,
              "#bd3786"
             ],
             [
              0.5555555555555556,
              "#d8576b"
             ],
             [
              0.6666666666666666,
              "#ed7953"
             ],
             [
              0.7777777777777778,
              "#fb9f3a"
             ],
             [
              0.8888888888888888,
              "#fdca26"
             ],
             [
              1,
              "#f0f921"
             ]
            ],
            "type": "heatmap"
           }
          ],
          "heatmapgl": [
           {
            "colorbar": {
             "outlinewidth": 0,
             "ticks": ""
            },
            "colorscale": [
             [
              0,
              "#0d0887"
             ],
             [
              0.1111111111111111,
              "#46039f"
             ],
             [
              0.2222222222222222,
              "#7201a8"
             ],
             [
              0.3333333333333333,
              "#9c179e"
             ],
             [
              0.4444444444444444,
              "#bd3786"
             ],
             [
              0.5555555555555556,
              "#d8576b"
             ],
             [
              0.6666666666666666,
              "#ed7953"
             ],
             [
              0.7777777777777778,
              "#fb9f3a"
             ],
             [
              0.8888888888888888,
              "#fdca26"
             ],
             [
              1,
              "#f0f921"
             ]
            ],
            "type": "heatmapgl"
           }
          ],
          "histogram": [
           {
            "marker": {
             "pattern": {
              "fillmode": "overlay",
              "size": 10,
              "solidity": 0.2
             }
            },
            "type": "histogram"
           }
          ],
          "histogram2d": [
           {
            "colorbar": {
             "outlinewidth": 0,
             "ticks": ""
            },
            "colorscale": [
             [
              0,
              "#0d0887"
             ],
             [
              0.1111111111111111,
              "#46039f"
             ],
             [
              0.2222222222222222,
              "#7201a8"
             ],
             [
              0.3333333333333333,
              "#9c179e"
             ],
             [
              0.4444444444444444,
              "#bd3786"
             ],
             [
              0.5555555555555556,
              "#d8576b"
             ],
             [
              0.6666666666666666,
              "#ed7953"
             ],
             [
              0.7777777777777778,
              "#fb9f3a"
             ],
             [
              0.8888888888888888,
              "#fdca26"
             ],
             [
              1,
              "#f0f921"
             ]
            ],
            "type": "histogram2d"
           }
          ],
          "histogram2dcontour": [
           {
            "colorbar": {
             "outlinewidth": 0,
             "ticks": ""
            },
            "colorscale": [
             [
              0,
              "#0d0887"
             ],
             [
              0.1111111111111111,
              "#46039f"
             ],
             [
              0.2222222222222222,
              "#7201a8"
             ],
             [
              0.3333333333333333,
              "#9c179e"
             ],
             [
              0.4444444444444444,
              "#bd3786"
             ],
             [
              0.5555555555555556,
              "#d8576b"
             ],
             [
              0.6666666666666666,
              "#ed7953"
             ],
             [
              0.7777777777777778,
              "#fb9f3a"
             ],
             [
              0.8888888888888888,
              "#fdca26"
             ],
             [
              1,
              "#f0f921"
             ]
            ],
            "type": "histogram2dcontour"
           }
          ],
          "mesh3d": [
           {
            "colorbar": {
             "outlinewidth": 0,
             "ticks": ""
            },
            "type": "mesh3d"
           }
          ],
          "parcoords": [
           {
            "line": {
             "colorbar": {
              "outlinewidth": 0,
              "ticks": ""
             }
            },
            "type": "parcoords"
           }
          ],
          "pie": [
           {
            "automargin": true,
            "type": "pie"
           }
          ],
          "scatter": [
           {
            "marker": {
             "line": {
              "color": "#283442"
             }
            },
            "type": "scatter"
           }
          ],
          "scatter3d": [
           {
            "line": {
             "colorbar": {
              "outlinewidth": 0,
              "ticks": ""
             }
            },
            "marker": {
             "colorbar": {
              "outlinewidth": 0,
              "ticks": ""
             }
            },
            "type": "scatter3d"
           }
          ],
          "scattercarpet": [
           {
            "marker": {
             "colorbar": {
              "outlinewidth": 0,
              "ticks": ""
             }
            },
            "type": "scattercarpet"
           }
          ],
          "scattergeo": [
           {
            "marker": {
             "colorbar": {
              "outlinewidth": 0,
              "ticks": ""
             }
            },
            "type": "scattergeo"
           }
          ],
          "scattergl": [
           {
            "marker": {
             "line": {
              "color": "#283442"
             }
            },
            "type": "scattergl"
           }
          ],
          "scattermapbox": [
           {
            "marker": {
             "colorbar": {
              "outlinewidth": 0,
              "ticks": ""
             }
            },
            "type": "scattermapbox"
           }
          ],
          "scatterpolar": [
           {
            "marker": {
             "colorbar": {
              "outlinewidth": 0,
              "ticks": ""
             }
            },
            "type": "scatterpolar"
           }
          ],
          "scatterpolargl": [
           {
            "marker": {
             "colorbar": {
              "outlinewidth": 0,
              "ticks": ""
             }
            },
            "type": "scatterpolargl"
           }
          ],
          "scatterternary": [
           {
            "marker": {
             "colorbar": {
              "outlinewidth": 0,
              "ticks": ""
             }
            },
            "type": "scatterternary"
           }
          ],
          "surface": [
           {
            "colorbar": {
             "outlinewidth": 0,
             "ticks": ""
            },
            "colorscale": [
             [
              0,
              "#0d0887"
             ],
             [
              0.1111111111111111,
              "#46039f"
             ],
             [
              0.2222222222222222,
              "#7201a8"
             ],
             [
              0.3333333333333333,
              "#9c179e"
             ],
             [
              0.4444444444444444,
              "#bd3786"
             ],
             [
              0.5555555555555556,
              "#d8576b"
             ],
             [
              0.6666666666666666,
              "#ed7953"
             ],
             [
              0.7777777777777778,
              "#fb9f3a"
             ],
             [
              0.8888888888888888,
              "#fdca26"
             ],
             [
              1,
              "#f0f921"
             ]
            ],
            "type": "surface"
           }
          ],
          "table": [
           {
            "cells": {
             "fill": {
              "color": "#506784"
             },
             "line": {
              "color": "rgb(17,17,17)"
             }
            },
            "header": {
             "fill": {
              "color": "#2a3f5f"
             },
             "line": {
              "color": "rgb(17,17,17)"
             }
            },
            "type": "table"
           }
          ]
         },
         "layout": {
          "annotationdefaults": {
           "arrowcolor": "#f2f5fa",
           "arrowhead": 0,
           "arrowwidth": 1
          },
          "autotypenumbers": "strict",
          "coloraxis": {
           "colorbar": {
            "outlinewidth": 0,
            "ticks": ""
           }
          },
          "colorscale": {
           "diverging": [
            [
             0,
             "#8e0152"
            ],
            [
             0.1,
             "#c51b7d"
            ],
            [
             0.2,
             "#de77ae"
            ],
            [
             0.3,
             "#f1b6da"
            ],
            [
             0.4,
             "#fde0ef"
            ],
            [
             0.5,
             "#f7f7f7"
            ],
            [
             0.6,
             "#e6f5d0"
            ],
            [
             0.7,
             "#b8e186"
            ],
            [
             0.8,
             "#7fbc41"
            ],
            [
             0.9,
             "#4d9221"
            ],
            [
             1,
             "#276419"
            ]
           ],
           "sequential": [
            [
             0,
             "#0d0887"
            ],
            [
             0.1111111111111111,
             "#46039f"
            ],
            [
             0.2222222222222222,
             "#7201a8"
            ],
            [
             0.3333333333333333,
             "#9c179e"
            ],
            [
             0.4444444444444444,
             "#bd3786"
            ],
            [
             0.5555555555555556,
             "#d8576b"
            ],
            [
             0.6666666666666666,
             "#ed7953"
            ],
            [
             0.7777777777777778,
             "#fb9f3a"
            ],
            [
             0.8888888888888888,
             "#fdca26"
            ],
            [
             1,
             "#f0f921"
            ]
           ],
           "sequentialminus": [
            [
             0,
             "#0d0887"
            ],
            [
             0.1111111111111111,
             "#46039f"
            ],
            [
             0.2222222222222222,
             "#7201a8"
            ],
            [
             0.3333333333333333,
             "#9c179e"
            ],
            [
             0.4444444444444444,
             "#bd3786"
            ],
            [
             0.5555555555555556,
             "#d8576b"
            ],
            [
             0.6666666666666666,
             "#ed7953"
            ],
            [
             0.7777777777777778,
             "#fb9f3a"
            ],
            [
             0.8888888888888888,
             "#fdca26"
            ],
            [
             1,
             "#f0f921"
            ]
           ]
          },
          "colorway": [
           "#636efa",
           "#EF553B",
           "#00cc96",
           "#ab63fa",
           "#FFA15A",
           "#19d3f3",
           "#FF6692",
           "#B6E880",
           "#FF97FF",
           "#FECB52"
          ],
          "font": {
           "color": "#f2f5fa"
          },
          "geo": {
           "bgcolor": "rgb(17,17,17)",
           "lakecolor": "rgb(17,17,17)",
           "landcolor": "rgb(17,17,17)",
           "showlakes": true,
           "showland": true,
           "subunitcolor": "#506784"
          },
          "hoverlabel": {
           "align": "left"
          },
          "hovermode": "closest",
          "mapbox": {
           "style": "dark"
          },
          "paper_bgcolor": "rgb(17,17,17)",
          "plot_bgcolor": "rgb(17,17,17)",
          "polar": {
           "angularaxis": {
            "gridcolor": "#506784",
            "linecolor": "#506784",
            "ticks": ""
           },
           "bgcolor": "rgb(17,17,17)",
           "radialaxis": {
            "gridcolor": "#506784",
            "linecolor": "#506784",
            "ticks": ""
           }
          },
          "scene": {
           "xaxis": {
            "backgroundcolor": "rgb(17,17,17)",
            "gridcolor": "#506784",
            "gridwidth": 2,
            "linecolor": "#506784",
            "showbackground": true,
            "ticks": "",
            "zerolinecolor": "#C8D4E3"
           },
           "yaxis": {
            "backgroundcolor": "rgb(17,17,17)",
            "gridcolor": "#506784",
            "gridwidth": 2,
            "linecolor": "#506784",
            "showbackground": true,
            "ticks": "",
            "zerolinecolor": "#C8D4E3"
           },
           "zaxis": {
            "backgroundcolor": "rgb(17,17,17)",
            "gridcolor": "#506784",
            "gridwidth": 2,
            "linecolor": "#506784",
            "showbackground": true,
            "ticks": "",
            "zerolinecolor": "#C8D4E3"
           }
          },
          "shapedefaults": {
           "line": {
            "color": "#f2f5fa"
           }
          },
          "sliderdefaults": {
           "bgcolor": "#C8D4E3",
           "bordercolor": "rgb(17,17,17)",
           "borderwidth": 1,
           "tickwidth": 0
          },
          "ternary": {
           "aaxis": {
            "gridcolor": "#506784",
            "linecolor": "#506784",
            "ticks": ""
           },
           "baxis": {
            "gridcolor": "#506784",
            "linecolor": "#506784",
            "ticks": ""
           },
           "bgcolor": "rgb(17,17,17)",
           "caxis": {
            "gridcolor": "#506784",
            "linecolor": "#506784",
            "ticks": ""
           }
          },
          "title": {
           "x": 0.05
          },
          "updatemenudefaults": {
           "bgcolor": "#506784",
           "borderwidth": 0
          },
          "xaxis": {
           "automargin": true,
           "gridcolor": "#283442",
           "linecolor": "#506784",
           "ticks": "",
           "title": {
            "standoff": 15
           },
           "zerolinecolor": "#283442",
           "zerolinewidth": 2
          },
          "yaxis": {
           "automargin": true,
           "gridcolor": "#283442",
           "linecolor": "#506784",
           "ticks": "",
           "title": {
            "standoff": 15
           },
           "zerolinecolor": "#283442",
           "zerolinewidth": 2
          }
         }
        },
        "title": {
         "text": "Pick up hour=2023-06-20 00:00:00, location_id=133"
        },
        "xaxis": {
         "anchor": "y",
         "domain": [
          0,
          1
         ],
         "title": {
          "text": "x"
         }
        },
        "yaxis": {
         "anchor": "x",
         "domain": [
          0,
          1
         ],
         "title": {
          "text": "y"
         }
        }
       }
      }
     },
     "metadata": {},
     "output_type": "display_data"
    }
   ],
   "source": [
    "plot_one_sample(\n",
    "    example_id=3979,\n",
    "    features=X_test,\n",
    "    targets=y_test,\n",
    "    predictions=pd.Series(predictions)\n",
    ")"
   ]
  }
 ],
 "metadata": {
  "kernelspec": {
   "display_name": ".venv",
   "language": "python",
   "name": "python3"
  },
  "language_info": {
   "codemirror_mode": {
    "name": "ipython",
    "version": 3
   },
   "file_extension": ".py",
   "mimetype": "text/x-python",
   "name": "python",
   "nbconvert_exporter": "python",
   "pygments_lexer": "ipython3",
   "version": "3.9.8"
  },
  "orig_nbformat": 4
 },
 "nbformat": 4,
 "nbformat_minor": 2
}
